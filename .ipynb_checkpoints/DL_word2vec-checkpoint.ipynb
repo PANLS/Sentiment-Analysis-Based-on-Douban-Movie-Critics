{
 "cells": [
  {
   "cell_type": "markdown",
   "metadata": {},
   "source": [
    "### Word2vec 结合keras"
   ]
  },
  {
   "cell_type": "code",
   "execution_count": 54,
   "metadata": {},
   "outputs": [],
   "source": [
    "import numpy as np\n",
    "import sys\n",
    "import re\n",
    "import codecs\n",
    "import os\n",
    "import jieba\n",
    "import gensim, logging\n",
    "from gensim.models import word2vec\n",
    "from sklearn.cross_validation import train_test_split\n",
    "from sklearn.externals import joblib\n",
    "from sklearn.preprocessing import scale\n",
    "from sklearn.svm import SVC\n",
    "from sklearn.decomposition import PCA\n",
    "from scipy import stats\n",
    "from scipy.stats import ks_2samp \n",
    "from keras.models import Sequential\n",
    "from keras.layers import Dense, Dropout, Activation\n",
    "from keras.optimizers import SGD\n",
    "from sklearn.metrics import f1_score\n",
    "from keras.layers.embeddings import Embedding\n",
    "from keras.layers.recurrent import LSTM\n",
    "#from bayes_opt import BayesianOptimization as BO\n",
    "from sklearn.metrics import roc_curve\n",
    "from sklearn.metrics import roc_auc_score as auc\n",
    "import matplotlib.pyplot as plt\n",
    "import sklearn\n",
    "import jieba"
   ]
  },
  {
   "cell_type": "code",
   "execution_count": null,
   "metadata": {},
   "outputs": [],
   "source": []
  },
  {
   "cell_type": "code",
   "execution_count": 2,
   "metadata": {},
   "outputs": [],
   "source": [
    "W2Vmodel = word2vec.Word2Vec.load(\"CommentsW2V.model\")"
   ]
  },
  {
   "cell_type": "code",
   "execution_count": 3,
   "metadata": {},
   "outputs": [],
   "source": [
    "def getWordVecs(wordList):\n",
    "    vecs = []\n",
    "    for word in wordList:\n",
    "        word = word.replace('\\n', '')\n",
    "        try:\n",
    "            vecs.append(W2Vmodel[word])\n",
    "        except KeyError:\n",
    "            continue\n",
    "    return np.array(vecs, dtype = 'float')"
   ]
  },
  {
   "cell_type": "code",
   "execution_count": 4,
   "metadata": {},
   "outputs": [],
   "source": [
    "def buildWordVec(filename):\n",
    "    posInput = []\n",
    "    #\"SegComments-utf8.txt\"\n",
    "    with open(filename, \"r\", encoding=\"utf8\") as txtfile:\n",
    "        for line in txtfile:\n",
    "            if not line.strip():   # erase null string\n",
    "                continue\n",
    "            line = line.split(' ')[2:]    # erase heading null\n",
    "            line = line[:-1] #+ [line[-1].replace('\\n','')] # erase ending char'\\n'\n",
    "            resultList = getWordVecs(line)\n",
    "            #print(line)\n",
    "            #print(resultList)\n",
    "            if len(resultList) > 0:\n",
    "                resultArray = sum(np.array(resultList))/len(resultList)\n",
    "                #print( resultArray)\n",
    "                posInput.append(resultArray)\n",
    "    return posInput"
   ]
  },
  {
   "cell_type": "code",
   "execution_count": 5,
   "metadata": {},
   "outputs": [
    {
     "name": "stderr",
     "output_type": "stream",
     "text": [
      "C:\\ProgramData\\Anaconda3\\lib\\site-packages\\ipykernel_launcher.py:6: DeprecationWarning: Call to deprecated `__getitem__` (Method will be removed in 4.0.0, use self.wv.__getitem__() instead).\n",
      "  \n"
     ]
    }
   ],
   "source": [
    "# posInput = buildWordVec(\"SegCommentsPosUTF8.txt\")\n",
    "# negInput = buildWordVec(\"SegCommentsNegUTF8.txt\")\n",
    "posInput = buildWordVec(\"TrainNeg.txt\")\n",
    "negInput = buildWordVec(\"TrainPos.txt\")"
   ]
  },
  {
   "cell_type": "code",
   "execution_count": 6,
   "metadata": {},
   "outputs": [
    {
     "data": {
      "text/plain": [
       "array([1., 1., 1., ..., 0., 0., 0.])"
      ]
     },
     "execution_count": 6,
     "metadata": {},
     "output_type": "execute_result"
    }
   ],
   "source": [
    "# use 1 for positive sentiment, 0 for negative\n",
    "\n",
    "y = np.concatenate((np.ones(len(posInput)), np.zeros(len(negInput))))\n",
    "y"
   ]
  },
  {
   "cell_type": "code",
   "execution_count": 7,
   "metadata": {},
   "outputs": [],
   "source": [
    "X = posInput[:]\n",
    "                   \n",
    "for neg in negInput:\n",
    "    X.append(neg)\n",
    "\n",
    "X = np.array(X)\n",
    "#X"
   ]
  },
  {
   "cell_type": "code",
   "execution_count": 8,
   "metadata": {},
   "outputs": [],
   "source": [
    "# standardization\n",
    "X=scale(X)\n",
    "#X"
   ]
  },
  {
   "cell_type": "code",
   "execution_count": 9,
   "metadata": {},
   "outputs": [],
   "source": [
    "X_reduced = PCA(n_components = 100).fit_transform(X)\n",
    "#(X_reduced)"
   ]
  },
  {
   "cell_type": "code",
   "execution_count": 10,
   "metadata": {},
   "outputs": [],
   "source": [
    "# train model\n",
    "X_reduced_train,X_reduced_test, y_reduced_train, y_reduced_test =train_test_split(X_reduced,y,test_size=0.4, random_state=1)\n",
    "X_train,X_test, y_train, y_test =train_test_split(X,y,test_size=0.4, random_state=1)"
   ]
  },
  {
   "cell_type": "code",
   "execution_count": 11,
   "metadata": {},
   "outputs": [
    {
     "data": {
      "text/plain": [
       "11410"
      ]
     },
     "execution_count": 11,
     "metadata": {},
     "output_type": "execute_result"
    }
   ],
   "source": [
    "len(X_reduced_train)"
   ]
  },
  {
   "cell_type": "code",
   "execution_count": 12,
   "metadata": {},
   "outputs": [
    {
     "data": {
      "text/plain": [
       "11410"
      ]
     },
     "execution_count": 12,
     "metadata": {},
     "output_type": "execute_result"
    }
   ],
   "source": [
    "len(y_reduced_train)"
   ]
  },
  {
   "cell_type": "code",
   "execution_count": 13,
   "metadata": {},
   "outputs": [
    {
     "data": {
      "image/png": "[encoded data removed]",
      "text/plain": [
       "<matplotlib.figure.Figure at 0x1713f5975f8>"
      ]
     },
     "metadata": {},
     "output_type": "display_data"
    }
   ],
   "source": [
    "# PCA \n",
    "# Plot the PCA spectrum \n",
    "pca=PCA(n_components=100)  \n",
    "pca.fit(X) \n",
    "plt.figure(1, figsize=(4, 3)) \n",
    "plt.clf() \n",
    "plt.axes([.2, .2, .7, .7]) \n",
    "plt.plot(pca.explained_variance_, linewidth=2) \n",
    "plt.axis('tight') \n",
    "plt.xlabel('n_components') \n",
    "plt.ylabel('explained_variance_') \n",
    "X_reduced = PCA(n_components = 100).fit_transform(X)"
   ]
  },
  {
   "cell_type": "markdown",
   "metadata": {},
   "source": [
    "### 2.3.1 SVM (RBF) + PCA\n",
    "SVM (RBF)分类表现更为宽松，且使用PCA降维后的模型表现有明显提升，misclassified多为负向文本被分类为正向文本，其中AUC = 0.92，KSValue = 0.7。"
   ]
  },
  {
   "cell_type": "code",
   "execution_count": 14,
   "metadata": {},
   "outputs": [
    {
     "name": "stdout",
     "output_type": "stream",
     "text": [
      "Test Accuracy: 0.77\n"
     ]
    }
   ],
   "source": [
    "\"\"\" 2.1 SVM (RBF) using training data with 20 dimensions \"\"\" \n",
    "\n",
    "clf = SVC(C = 2, probability = True) \n",
    "clf.fit(X_reduced_train, y_reduced_train) \n",
    "\n",
    "print ('Test Accuracy: %.2f'% clf.score(X_reduced_test, y_reduced_test) )\n"
   ]
  },
  {
   "cell_type": "code",
   "execution_count": 15,
   "metadata": {},
   "outputs": [
    {
     "name": "stdout",
     "output_type": "stream",
     "text": [
      "KS value: 0.530827\n"
     ]
    }
   ],
   "source": [
    "pred_probas = clf.predict_proba(X_reduced_test)[:,1] \n",
    "\n",
    "print (\"KS value: %f\" % ks_2samp(y_reduced_test, pred_probas)[0] )"
   ]
  },
  {
   "cell_type": "code",
   "execution_count": 16,
   "metadata": {},
   "outputs": [
    {
     "data": {
      "image/png": "[encoded data removed]",
      "text/plain": [
       "<matplotlib.figure.Figure at 0x17141b82be0>"
      ]
     },
     "metadata": {},
     "output_type": "display_data"
    }
   ],
   "source": [
    "# plot ROC curve # AUC = 0.92 # KS = 0.7 \n",
    "\n",
    "fpr,tpr,_ = roc_curve(y_reduced_test, pred_probas)\n",
    "roc_auc =  sklearn.metrics.auc(fpr,tpr)\n",
    "plt.plot(fpr, tpr, label = 'roc_auc = %.2f' % roc_auc)\n",
    "plt.plot([0, 1], [0, 1], 'k--')\n",
    "plt.xlim([0.0, 1.0])\n",
    "plt.ylim([0.0, 1.05])\n",
    "plt.legend(loc = 'lower right')\n",
    "plt.show()"
   ]
  },
  {
   "cell_type": "code",
   "execution_count": null,
   "metadata": {},
   "outputs": [],
   "source": [
    "joblib.dump(clf, \"SVC.pkl\")"
   ]
  },
  {
   "cell_type": "markdown",
   "metadata": {},
   "source": [
    "### 2.3.2 MLP\n",
    "MLP相比于SVM (RBF)，分类更为严格，PCA降维后对模型准确率影响不大，misclassified多为正向文本被分类为负向，其实是更容易overfitting，原因是语料过少，其实用神经网络未免有些小题大做，AUC = 0.91。"
   ]
  },
  {
   "cell_type": "code",
   "execution_count": 17,
   "metadata": {},
   "outputs": [
    {
     "name": "stderr",
     "output_type": "stream",
     "text": [
      "C:\\ProgramData\\Anaconda3\\lib\\site-packages\\ipykernel_launcher.py:3: UserWarning: Update your `Dense` call to the Keras 2 API: `Dense(512, input_dim=200, activation=\"tanh\", kernel_initializer=\"uniform\")`\n",
      "  This is separate from the ipykernel package so we can avoid doing imports until\n"
     ]
    }
   ],
   "source": [
    "#model defination\n",
    "model = Sequential() \n",
    "model.add(Dense(512, input_dim = 200, init = 'uniform', activation = 'tanh')) \n",
    "model.add(Dropout(0.5)) \n",
    "model.add(Dense(256, activation = 'relu')) \n",
    "model.add(Dropout(0.5)) \n",
    "model.add(Dense(128, activation = 'relu')) \n",
    "model.add(Dropout(0.5)) \n",
    "model.add(Dense(64, activation = 'relu')) \n",
    "model.add(Dropout(0.5)) \n",
    "model.add(Dense(32, activation = 'relu')) \n",
    "model.add(Dropout(0.5)) \n",
    "model.add(Dense(1, activation = 'sigmoid')) \n",
    "model.compile(loss = 'binary_crossentropy', optimizer = 'adam', metrics = ['accuracy'])\n"
   ]
  },
  {
   "cell_type": "code",
   "execution_count": 18,
   "metadata": {},
   "outputs": [
    {
     "name": "stdout",
     "output_type": "stream",
     "text": [
      "Epoch 1/20\n",
      "11410/11410 [==============================] - 5s 478us/step - loss: 0.6418 - acc: 0.6528\n",
      "Epoch 2/20\n",
      "11410/11410 [==============================] - 5s 431us/step - loss: 0.5639 - acc: 0.7340\n",
      "Epoch 3/20\n",
      "11410/11410 [==============================] - 5s 444us/step - loss: 0.5453 - acc: 0.7446\n",
      "Epoch 4/20\n",
      "11410/11410 [==============================] - 5s 439us/step - loss: 0.5305 - acc: 0.7542\n",
      "Epoch 5/20\n",
      "11410/11410 [==============================] - 5s 450us/step - loss: 0.5272 - acc: 0.7557\n",
      "Epoch 6/20\n",
      "11410/11410 [==============================] - 5s 463us/step - loss: 0.5147 - acc: 0.7616\n",
      "Epoch 7/20\n",
      "11410/11410 [==============================] - 5s 466us/step - loss: 0.5098 - acc: 0.7663\n",
      "Epoch 8/20\n",
      "11410/11410 [==============================] - 6s 502us/step - loss: 0.5083 - acc: 0.7609\n",
      "Epoch 9/20\n",
      "11410/11410 [==============================] - 5s 468us/step - loss: 0.4993 - acc: 0.7670\n",
      "Epoch 10/20\n",
      "11410/11410 [==============================] - 5s 471us/step - loss: 0.4958 - acc: 0.7682\n",
      "Epoch 11/20\n",
      "11410/11410 [==============================] - 5s 468us/step - loss: 0.4895 - acc: 0.7749\n",
      "Epoch 12/20\n",
      "11410/11410 [==============================] - 5s 469us/step - loss: 0.4820 - acc: 0.7752\n",
      "Epoch 13/20\n",
      "11410/11410 [==============================] - 5s 469us/step - loss: 0.4825 - acc: 0.7762\n",
      "Epoch 14/20\n",
      "11410/11410 [==============================] - 6s 498us/step - loss: 0.4828 - acc: 0.7834\n",
      "Epoch 15/20\n",
      "11410/11410 [==============================] - 6s 487us/step - loss: 0.4679 - acc: 0.7879\n",
      "Epoch 16/20\n",
      "11410/11410 [==============================] - 6s 489us/step - loss: 0.4686 - acc: 0.7823\n",
      "Epoch 17/20\n",
      "11410/11410 [==============================] - 5s 481us/step - loss: 0.4552 - acc: 0.7913\n",
      "Epoch 18/20\n",
      "11410/11410 [==============================] - 5s 473us/step - loss: 0.4504 - acc: 0.7938\n",
      "Epoch 19/20\n",
      "11410/11410 [==============================] - 6s 509us/step - loss: 0.4481 - acc: 0.7935\n",
      "Epoch 20/20\n",
      "11410/11410 [==============================] - 6s 494us/step - loss: 0.4401 - acc: 0.7988\n"
     ]
    },
    {
     "data": {
      "text/plain": [
       "<keras.callbacks.History at 0x1713f5978d0>"
      ]
     },
     "execution_count": 18,
     "metadata": {},
     "output_type": "execute_result"
    }
   ],
   "source": [
    "#model traning\n",
    "model.fit(X_train, y_train, epochs = 100, batch_size = 16) \n"
   ]
  },
  {
   "cell_type": "code",
   "execution_count": 19,
   "metadata": {},
   "outputs": [
    {
     "name": "stdout",
     "output_type": "stream",
     "text": [
      "7607/7607 [==============================] - 1s 140us/step\n",
      "Test accuracy:  0.7737610095964244\n"
     ]
    }
   ],
   "source": [
    "score = model.evaluate(X_test, y_test, batch_size = 16) \n",
    "print ('Test accuracy: ', score[1])\n"
   ]
  },
  {
   "cell_type": "code",
   "execution_count": 20,
   "metadata": {},
   "outputs": [
    {
     "name": "stdout",
     "output_type": "stream",
     "text": [
      "KS value: 0.530827\n"
     ]
    }
   ],
   "source": [
    "pred_probas2 = model.predict_proba(X_test)[:,0]\n",
    "print (\"KS value: %f\" % ks_2samp(y_test, pred_probas2)[0] )"
   ]
  },
  {
   "cell_type": "code",
   "execution_count": 21,
   "metadata": {},
   "outputs": [
    {
     "data": {
      "image/png": "[encoded data removed]",
      "text/plain": [
       "<matplotlib.figure.Figure at 0x171413a26d8>"
      ]
     },
     "metadata": {},
     "output_type": "display_data"
    }
   ],
   "source": [
    "# plot ROC curve # AUC = 0.91 \n",
    "fpr2,tpr2,_ = roc_curve(y_test, pred_probas2) \n",
    "roc_auc2 = sklearn.metrics.auc(fpr2,tpr2) \n",
    "plt.plot(fpr2, tpr2, label = 'roc_auc(MLP) = %.2f' % roc_auc2, color=\"red\") \n",
    "plt.plot(fpr, tpr, label = 'roc_auc(SVM(RBF)&PCA) = %.2f' % roc_auc, color=\"green\")    # SVM above \n",
    "plt.plot([0, 1], [0, 1], 'k--') \n",
    "plt.xlim([0.0, 1.0]) \n",
    "plt.ylim([0.0, 1.05]) \n",
    "plt.legend(loc = 'lower right') \n",
    "plt.show()"
   ]
  },
  {
   "cell_type": "code",
   "execution_count": 60,
   "metadata": {},
   "outputs": [],
   "source": [
    "## TODO 直接调用分类器进行分类\n",
    "## 缺陷： word2vec的模型调用用大一点的语料库:写爬虫爬更多豆瓣影评 不能用人民日报语料库   明天做\n"
   ]
  },
  {
   "cell_type": "code",
   "execution_count": 162,
   "metadata": {},
   "outputs": [
    {
     "name": "stdout",
     "output_type": "stream",
     "text": [
      "[0.00130127]\n"
     ]
    },
    {
     "name": "stderr",
     "output_type": "stream",
     "text": [
      "C:\\ProgramData\\Anaconda3\\lib\\site-packages\\ipykernel_launcher.py:6: DeprecationWarning: Call to deprecated `__getitem__` (Method will be removed in 4.0.0, use self.wv.__getitem__() instead).\n",
      "  \n"
     ]
    }
   ],
   "source": [
    "text = \"超好看\"\n",
    "seg_list = jieba.cut(text, cut_all=False)\n",
    "w2cTest = getWordVecs(list(seg_list))\n",
    "shapedVector = sum(np.array(w2cTest))/len(w2cTest)\n",
    "#shapedVector = PCA(n_components = 100).fit_transform()\n",
    "#np.array([shapedVector])\n",
    "# scale(w2cTest_reduced)\n",
    "\n",
    "print(model.predict_proba(np.array([shapedVector]))[0])\n",
    "## 有bug"
   ]
  },
  {
   "cell_type": "markdown",
   "metadata": {},
   "source": [
    "## LSTM"
   ]
  },
  {
   "cell_type": "code",
   "execution_count": null,
   "metadata": {},
   "outputs": [],
   "source": []
  },
  {
   "cell_type": "code",
   "execution_count": 120,
   "metadata": {},
   "outputs": [],
   "source": [
    "EMBEDDING_SIZE = 128\n",
    "HIDDEN_LAYER_SIZE = 64\n",
    "data_dim = 200\n",
    "timesteps = 1\n",
    "\n",
    "LSTM_model = Sequential()\n",
    "LSTM_model.add(LSTM(HIDDEN_LAYER_SIZE,input_shape=(timesteps,data_dim), dropout=0.2, recurrent_dropout=0.2))\n",
    "LSTM_model.add(Dense(1))\n",
    "LSTM_model.add(Activation(\"sigmoid\"))\n",
    "LSTM_model.compile(loss=\"binary_crossentropy\", optimizer=\"adam\",metrics=[\"accuracy\"])"
   ]
  },
  {
   "cell_type": "code",
   "execution_count": 121,
   "metadata": {},
   "outputs": [],
   "source": [
    "X_train_reshaped = np.reshape(X_train, (X_train.shape[0], 1, X_train.shape[1]))\n",
    "X_test_reshaped = np.reshape(X_test, (X_test.shape[0], 1, X_test.shape[1]))"
   ]
  },
  {
   "cell_type": "code",
   "execution_count": 123,
   "metadata": {},
   "outputs": [
    {
     "name": "stdout",
     "output_type": "stream",
     "text": [
      "Epoch 1/50\n",
      "11410/11410 [==============================] - 3s 278us/step - loss: 0.2483 - acc: 0.8993\n",
      "Epoch 2/50\n",
      "11410/11410 [==============================] - 3s 270us/step - loss: 0.2424 - acc: 0.9005\n",
      "Epoch 3/50\n",
      "11410/11410 [==============================] - 3s 274us/step - loss: 0.2339 - acc: 0.9072 0s - loss: 0.2336 - acc: \n",
      "Epoch 4/50\n",
      "11410/11410 [==============================] - 3s 272us/step - loss: 0.2311 - acc: 0.9081\n",
      "Epoch 5/50\n",
      "11410/11410 [==============================] - 3s 277us/step - loss: 0.2222 - acc: 0.9119\n",
      "Epoch 6/50\n",
      "11410/11410 [==============================] - 3s 280us/step - loss: 0.2216 - acc: 0.9104\n",
      "Epoch 7/50\n",
      "11410/11410 [==============================] - 3s 278us/step - loss: 0.2194 - acc: 0.9117\n",
      "Epoch 8/50\n",
      "11410/11410 [==============================] - 3s 292us/step - loss: 0.2104 - acc: 0.9163\n",
      "Epoch 9/50\n",
      "11410/11410 [==============================] - 3s 279us/step - loss: 0.2124 - acc: 0.9146\n",
      "Epoch 10/50\n",
      "11410/11410 [==============================] - 3s 277us/step - loss: 0.2063 - acc: 0.9161\n",
      "Epoch 11/50\n",
      "11410/11410 [==============================] - 3s 297us/step - loss: 0.2059 - acc: 0.9169\n",
      "Epoch 12/50\n",
      "11410/11410 [==============================] - 3s 294us/step - loss: 0.2027 - acc: 0.9219\n",
      "Epoch 13/50\n",
      "11410/11410 [==============================] - 3s 282us/step - loss: 0.1949 - acc: 0.9245\n",
      "Epoch 14/50\n",
      "11410/11410 [==============================] - 3s 281us/step - loss: 0.1975 - acc: 0.9182\n",
      "Epoch 15/50\n",
      "11410/11410 [==============================] - 3s 278us/step - loss: 0.1862 - acc: 0.9287\n",
      "Epoch 16/50\n",
      "11410/11410 [==============================] - 3s 287us/step - loss: 0.1914 - acc: 0.9242\n",
      "Epoch 17/50\n",
      "11410/11410 [==============================] - 3s 285us/step - loss: 0.1916 - acc: 0.9237\n",
      "Epoch 18/50\n",
      "11410/11410 [==============================] - 3s 291us/step - loss: 0.1889 - acc: 0.9272\n",
      "Epoch 19/50\n",
      "11410/11410 [==============================] - 3s 281us/step - loss: 0.1877 - acc: 0.9274\n",
      "Epoch 20/50\n",
      "11410/11410 [==============================] - 3s 282us/step - loss: 0.1813 - acc: 0.9275\n",
      "Epoch 21/50\n",
      "11410/11410 [==============================] - 3s 281us/step - loss: 0.1707 - acc: 0.9321\n",
      "Epoch 22/50\n",
      "11410/11410 [==============================] - 4s 308us/step - loss: 0.1802 - acc: 0.9317\n",
      "Epoch 23/50\n",
      "11410/11410 [==============================] - 4s 317us/step - loss: 0.1778 - acc: 0.9319\n",
      "Epoch 24/50\n",
      "11410/11410 [==============================] - 4s 382us/step - loss: 0.1756 - acc: 0.9294\n",
      "Epoch 25/50\n",
      "11410/11410 [==============================] - 4s 383us/step - loss: 0.1753 - acc: 0.9299\n",
      "Epoch 26/50\n",
      "11410/11410 [==============================] - 4s 341us/step - loss: 0.1688 - acc: 0.9327\n",
      "Epoch 27/50\n",
      "11410/11410 [==============================] - 4s 316us/step - loss: 0.1714 - acc: 0.9321\n",
      "Epoch 28/50\n",
      "11410/11410 [==============================] - 4s 314us/step - loss: 0.1720 - acc: 0.9311\n",
      "Epoch 29/50\n",
      "11410/11410 [==============================] - 4s 339us/step - loss: 0.1641 - acc: 0.9346\n",
      "Epoch 30/50\n",
      "11410/11410 [==============================] - 4s 313us/step - loss: 0.1642 - acc: 0.9358\n",
      "Epoch 31/50\n",
      "11410/11410 [==============================] - 4s 310us/step - loss: 0.1635 - acc: 0.9334\n",
      "Epoch 32/50\n",
      "11410/11410 [==============================] - 4s 313us/step - loss: 0.1605 - acc: 0.9364 0s - loss: 0.1\n",
      "Epoch 33/50\n",
      "11410/11410 [==============================] - 4s 318us/step - loss: 0.1598 - acc: 0.9372\n",
      "Epoch 34/50\n",
      "11410/11410 [==============================] - 4s 354us/step - loss: 0.1627 - acc: 0.9361\n",
      "Epoch 35/50\n",
      "11410/11410 [==============================] - 4s 325us/step - loss: 0.1650 - acc: 0.9323\n",
      "Epoch 36/50\n",
      "11410/11410 [==============================] - 4s 325us/step - loss: 0.1604 - acc: 0.9367\n",
      "Epoch 37/50\n",
      "11410/11410 [==============================] - 4s 323us/step - loss: 0.1558 - acc: 0.9397\n",
      "Epoch 38/50\n",
      "11410/11410 [==============================] - 4s 330us/step - loss: 0.1610 - acc: 0.9358\n",
      "Epoch 39/50\n",
      "11410/11410 [==============================] - 4s 326us/step - loss: 0.1574 - acc: 0.9401\n",
      "Epoch 40/50\n",
      "11410/11410 [==============================] - 4s 327us/step - loss: 0.1603 - acc: 0.9342\n",
      "Epoch 41/50\n",
      "11410/11410 [==============================] - 4s 326us/step - loss: 0.1571 - acc: 0.9387\n",
      "Epoch 42/50\n",
      "11410/11410 [==============================] - 4s 325us/step - loss: 0.1548 - acc: 0.9404\n",
      "Epoch 43/50\n",
      "11410/11410 [==============================] - 4s 328us/step - loss: 0.1511 - acc: 0.9413\n",
      "Epoch 44/50\n",
      "11410/11410 [==============================] - 4s 328us/step - loss: 0.1490 - acc: 0.9393\n",
      "Epoch 45/50\n",
      "11410/11410 [==============================] - 4s 359us/step - loss: 0.1547 - acc: 0.9367\n",
      "Epoch 46/50\n",
      "11410/11410 [==============================] - 4s 325us/step - loss: 0.1510 - acc: 0.9418\n",
      "Epoch 47/50\n",
      "11410/11410 [==============================] - 4s 331us/step - loss: 0.1551 - acc: 0.9395\n",
      "Epoch 48/50\n",
      "11410/11410 [==============================] - 4s 333us/step - loss: 0.1483 - acc: 0.9394\n",
      "Epoch 49/50\n",
      "11410/11410 [==============================] - 4s 328us/step - loss: 0.1496 - acc: 0.9417\n",
      "Epoch 50/50\n",
      "11410/11410 [==============================] - 4s 346us/step - loss: 0.1517 - acc: 0.9398\n"
     ]
    },
    {
     "data": {
      "text/plain": [
       "<keras.callbacks.History at 0x1716dab3b00>"
      ]
     },
     "execution_count": 123,
     "metadata": {},
     "output_type": "execute_result"
    }
   ],
   "source": [
    "LSTM_model.fit(X_train_reshaped, y_train, epochs = 50, batch_size = 16) \n",
    "#X_train.shape[0], X_train.shape[1]"
   ]
  },
  {
   "cell_type": "code",
   "execution_count": 128,
   "metadata": {
    "scrolled": false
   },
   "outputs": [
    {
     "name": "stdout",
     "output_type": "stream",
     "text": [
      "7607/7607 [==============================] - 1s 99us/step\n",
      "Test accuracy:  0.7507558827395819\n",
      "KS value: 0.530827\n"
     ]
    }
   ],
   "source": [
    "score = LSTM_model.evaluate(X_test_reshaped, y_test, batch_size = 16) \n",
    "print ('Test accuracy: ', score[1])\n",
    "pred_probas3 = LSTM_model.predict_proba(X_test_reshaped)[:,0]\n",
    "print (\"KS value: %f\" % ks_2samp(y_test, pred_probas3)[0] )"
   ]
  },
  {
   "cell_type": "code",
   "execution_count": 129,
   "metadata": {},
   "outputs": [
    {
     "data": {
      "image/png": "[encoded data removed]",
      "text/plain": [
       "<matplotlib.figure.Figure at 0x17167701da0>"
      ]
     },
     "metadata": {},
     "output_type": "display_data"
    }
   ],
   "source": [
    "# plot ROC curve # AUC = 0.91 \n",
    "fpr3,tpr3,_ = roc_curve(y_test, pred_probas3) \n",
    "roc_auc3 = sklearn.metrics.auc(fpr3,tpr3) \n",
    "plt.plot(fpr3, tpr3, label = 'roc_auc(LSTM) = %.2f' % roc_auc3, color=\"blue\") \n",
    "plt.plot(fpr2, tpr2, label = 'roc_auc(MLP) = %.2f' % roc_auc2, color=\"red\") \n",
    "plt.plot(fpr, tpr, label = 'roc_auc(SVM(RBF)&PCA) = %.2f' % roc_auc, color=\"green\")    # SVM above \n",
    "plt.plot([0, 1], [0, 1], 'k--') \n",
    "plt.xlim([0.0, 1.0]) \n",
    "plt.ylim([0.0, 1.05]) \n",
    "plt.legend(loc = 'lower right') \n",
    "plt.show()"
   ]
  },
  {
   "cell_type": "code",
   "execution_count": 150,
   "metadata": {},
   "outputs": [
    {
     "name": "stdout",
     "output_type": "stream",
     "text": [
      "[[0.7149589]]\n"
     ]
    },
    {
     "name": "stderr",
     "output_type": "stream",
     "text": [
      "C:\\ProgramData\\Anaconda3\\lib\\site-packages\\ipykernel_launcher.py:6: DeprecationWarning: Call to deprecated `__getitem__` (Method will be removed in 4.0.0, use self.wv.__getitem__() instead).\n",
      "  \n"
     ]
    }
   ],
   "source": [
    "text = \"我觉得这个电影还不错的，虽然剧情有点牵强，女主设定有点奇怪，男主长的太丑了，其实还是可以一看的，期待下一部，超好看的！！！！！\"\n",
    "seg_list = jieba.cut(text, cut_all=False)\n",
    "w2cTest = getWordVecs(list(seg_list))\n",
    "shapedVector = sum(np.array(w2cTest))/len(w2cTest)\n",
    "shapedVector = np.array([shapedVector]);\n",
    "reshapedVector = np.reshape(shapedVector, (shapedVector.shape[0], 1, shapedVector.shape[1]))\n",
    "print(LSTM_model.predict_proba(reshapedVector))"
   ]
  },
  {
   "cell_type": "code",
   "execution_count": 165,
   "metadata": {},
   "outputs": [],
   "source": [
    "model.save(\"outputs/MLPmodel.h5\")\n",
    "LSTM_model.save(\"outputs/LSTMmodel.h5\")"
   ]
  },
  {
   "cell_type": "code",
   "execution_count": null,
   "metadata": {},
   "outputs": [],
   "source": []
  }
 ],
 "metadata": {
  "kernelspec": {
   "display_name": "Python 3",
   "language": "python",
   "name": "python3"
  },
  "language_info": {
   "codemirror_mode": {
    "name": "ipython",
    "version": 3
   },
   "file_extension": ".py",
   "mimetype": "text/x-python",
   "name": "python",
   "nbconvert_exporter": "python",
   "pygments_lexer": "ipython3",
   "version": "3.6.4"
  }
 },
 "nbformat": 4,
 "nbformat_minor": 2
}
