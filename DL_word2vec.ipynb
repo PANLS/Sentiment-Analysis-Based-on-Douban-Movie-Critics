{
 "cells": [
  {
   "cell_type": "markdown",
   "metadata": {},
   "source": [
    "### Word2vec 结合keras"
   ]
  },
  {
   "cell_type": "code",
   "execution_count": 1,
   "metadata": {},
   "outputs": [
    {
     "name": "stderr",
     "output_type": "stream",
     "text": [
      "C:\\ProgramData\\Anaconda3\\lib\\site-packages\\gensim\\utils.py:1197: UserWarning: detected Windows; aliasing chunkize to chunkize_serial\n",
      "  warnings.warn(\"detected Windows; aliasing chunkize to chunkize_serial\")\n",
      "C:\\ProgramData\\Anaconda3\\lib\\site-packages\\sklearn\\cross_validation.py:41: DeprecationWarning: This module was deprecated in version 0.18 in favor of the model_selection module into which all the refactored classes and functions are moved. Also note that the interface of the new CV iterators are different from that of this module. This module will be removed in 0.20.\n",
      "  \"This module will be removed in 0.20.\", DeprecationWarning)\n",
      "C:\\ProgramData\\Anaconda3\\lib\\site-packages\\h5py\\__init__.py:36: FutureWarning: Conversion of the second argument of issubdtype from `float` to `np.floating` is deprecated. In future, it will be treated as `np.float64 == np.dtype(float).type`.\n",
      "  from ._conv import register_converters as _register_converters\n",
      "Using TensorFlow backend.\n"
     ]
    }
   ],
   "source": [
    "import numpy as np\n",
    "import sys\n",
    "import re\n",
    "import codecs\n",
    "import os\n",
    "import jieba\n",
    "import gensim, logging\n",
    "from gensim.models import word2vec\n",
    "from sklearn.cross_validation import train_test_split\n",
    "from sklearn.externals import joblib\n",
    "from sklearn.preprocessing import scale\n",
    "from sklearn.svm import SVC\n",
    "from sklearn.decomposition import PCA\n",
    "from scipy import stats\n",
    "from scipy.stats import ks_2samp \n",
    "from keras.models import Sequential\n",
    "from keras.layers import Dense, Dropout, Activation\n",
    "from keras.optimizers import SGD\n",
    "from sklearn.metrics import f1_score\n",
    "from keras.layers.embeddings import Embedding\n",
    "from keras.layers.recurrent import LSTM\n",
    "#from bayes_opt import BayesianOptimization as BO\n",
    "from sklearn.metrics import roc_curve\n",
    "from sklearn.metrics import roc_auc_score as auc\n",
    "import matplotlib.pyplot as plt\n",
    "import sklearn\n",
    "import jieba"
   ]
  },
  {
   "cell_type": "code",
   "execution_count": null,
   "metadata": {},
   "outputs": [],
   "source": []
  },
  {
   "cell_type": "code",
   "execution_count": 2,
   "metadata": {},
   "outputs": [],
   "source": [
    "W2Vmodel = word2vec.Word2Vec.load(\"W2Vmodel\\CommentsW2V.model\")"
   ]
  },
  {
   "cell_type": "code",
   "execution_count": 3,
   "metadata": {},
   "outputs": [],
   "source": [
    "def getWordVecs(wordList):\n",
    "    vecs = []\n",
    "    for word in wordList:\n",
    "        word = word.replace('\\n', '')\n",
    "        try:\n",
    "            vecs.append(W2Vmodel[word])\n",
    "        except KeyError:\n",
    "            continue\n",
    "    return np.array(vecs, dtype = 'float')"
   ]
  },
  {
   "cell_type": "code",
   "execution_count": 4,
   "metadata": {},
   "outputs": [],
   "source": [
    "def buildWordVec(filename):\n",
    "    posInput = []\n",
    "    #\"SegComments-utf8.txt\"\n",
    "    with open(filename, \"r\", encoding=\"utf8\") as txtfile:\n",
    "        for line in txtfile:\n",
    "            if not line.strip():   # erase null string\n",
    "                continue\n",
    "            line = line.split(' ')[2:]    # erase heading null\n",
    "            line = line[:-1] #+ [line[-1].replace('\\n','')] # erase ending char'\\n'\n",
    "            resultList = getWordVecs(line)\n",
    "            #print(line)\n",
    "            #print(resultList)\n",
    "            if len(resultList) > 0:\n",
    "                resultArray = sum(np.array(resultList))/len(resultList)\n",
    "                #print( resultArray)\n",
    "                posInput.append(resultArray)\n",
    "    return posInput"
   ]
  },
  {
   "cell_type": "code",
   "execution_count": 14,
   "metadata": {},
   "outputs": [
    {
     "name": "stderr",
     "output_type": "stream",
     "text": [
      "C:\\ProgramData\\Anaconda3\\lib\\site-packages\\ipykernel_launcher.py:6: DeprecationWarning: Call to deprecated `__getitem__` (Method will be removed in 4.0.0, use self.wv.__getitem__() instead).\n",
      "  \n"
     ]
    }
   ],
   "source": [
    "# posInput = buildWordVec(\"SegCommentsPosUTF8.txt\")\n",
    "# negInput = buildWordVec(\"SegCommentsNegUTF8.txt\")\n",
    "posInput = buildWordVec(\"inputs\\TrainNeg.txt\")\n",
    "negInput = buildWordVec(\"inputs\\TrainPos.txt\")"
   ]
  },
  {
   "cell_type": "code",
   "execution_count": 15,
   "metadata": {},
   "outputs": [
    {
     "data": {
      "text/plain": [
       "array([1., 1., 1., ..., 0., 0., 0.])"
      ]
     },
     "execution_count": 15,
     "metadata": {},
     "output_type": "execute_result"
    }
   ],
   "source": [
    "# use 1 for positive sentiment, 0 for negative\n",
    "\n",
    "y = np.concatenate((np.ones(len(posInput)), np.zeros(len(negInput))))\n",
    "y"
   ]
  },
  {
   "cell_type": "code",
   "execution_count": 16,
   "metadata": {},
   "outputs": [],
   "source": [
    "X = posInput[:]\n",
    "                   \n",
    "for neg in negInput:\n",
    "    X.append(neg)\n",
    "\n",
    "X = np.array(X)\n",
    "#X"
   ]
  },
  {
   "cell_type": "code",
   "execution_count": 17,
   "metadata": {},
   "outputs": [],
   "source": [
    "# standardization\n",
    "X=scale(X)\n",
    "#X"
   ]
  },
  {
   "cell_type": "code",
   "execution_count": 18,
   "metadata": {},
   "outputs": [],
   "source": [
    "X_reduced = PCA(n_components = 100).fit_transform(X)\n",
    "#(X_reduced)"
   ]
  },
  {
   "cell_type": "code",
   "execution_count": 19,
   "metadata": {},
   "outputs": [],
   "source": [
    "# train model\n",
    "X_reduced_train,X_reduced_test, y_reduced_train, y_reduced_test =train_test_split(X_reduced,y,test_size=0.4, random_state=1)\n",
    "X_train,X_test, y_train, y_test =train_test_split(X,y,test_size=0.4, random_state=1)"
   ]
  },
  {
   "cell_type": "code",
   "execution_count": 20,
   "metadata": {},
   "outputs": [
    {
     "data": {
      "text/plain": [
       "11410"
      ]
     },
     "execution_count": 20,
     "metadata": {},
     "output_type": "execute_result"
    }
   ],
   "source": [
    "len(X_reduced_train)"
   ]
  },
  {
   "cell_type": "code",
   "execution_count": 21,
   "metadata": {},
   "outputs": [
    {
     "data": {
      "text/plain": [
       "11410"
      ]
     },
     "execution_count": 21,
     "metadata": {},
     "output_type": "execute_result"
    }
   ],
   "source": [
    "len(y_reduced_train)"
   ]
  },
  {
   "cell_type": "code",
   "execution_count": 22,
   "metadata": {},
   "outputs": [
    {
     "data": {
      "image/png": "[encoded data removed]",
      "text/plain": [
       "<matplotlib.figure.Figure at 0x253be356ef0>"
      ]
     },
     "metadata": {},
     "output_type": "display_data"
    }
   ],
   "source": [
    "# PCA \n",
    "# Plot the PCA spectrum \n",
    "pca=PCA(n_components=100)  \n",
    "pca.fit(X) \n",
    "plt.figure(1, figsize=(4, 3)) \n",
    "plt.clf() \n",
    "plt.axes([.2, .2, .7, .7]) \n",
    "plt.plot(pca.explained_variance_, linewidth=2) \n",
    "plt.axis('tight') \n",
    "plt.xlabel('n_components') \n",
    "plt.ylabel('explained_variance_') \n",
    "X_reduced = PCA(n_components = 100).fit_transform(X)"
   ]
  },
  {
   "cell_type": "markdown",
   "metadata": {},
   "source": [
    "### 2.3.1 SVM (RBF) + PCA\n",
    "SVM (RBF)分类表现更为宽松，且使用PCA降维后的模型表现有明显提升，misclassified多为负向文本被分类为正向文本，其中AUC = 0.92，KSValue = 0.7。"
   ]
  },
  {
   "cell_type": "code",
   "execution_count": 23,
   "metadata": {},
   "outputs": [
    {
     "name": "stdout",
     "output_type": "stream",
     "text": [
      "Test Accuracy: 0.78\n"
     ]
    }
   ],
   "source": [
    "\"\"\" 2.1 SVM (RBF) using training data with 20 dimensions \"\"\" \n",
    "\n",
    "clf = SVC(C = 2, probability = True) \n",
    "clf.fit(X_reduced_train, y_reduced_train) \n",
    "\n",
    "print ('Test Accuracy: %.2f'% clf.score(X_reduced_test, y_reduced_test) )\n"
   ]
  },
  {
   "cell_type": "code",
   "execution_count": 24,
   "metadata": {},
   "outputs": [
    {
     "name": "stdout",
     "output_type": "stream",
     "text": [
      "KS value: 0.530827\n"
     ]
    }
   ],
   "source": [
    "pred_probas = clf.predict_proba(X_reduced_test)[:,1] \n",
    "\n",
    "print (\"KS value: %f\" % ks_2samp(y_reduced_test, pred_probas)[0] )"
   ]
  },
  {
   "cell_type": "code",
   "execution_count": 26,
   "metadata": {},
   "outputs": [
    {
     "data": {
      "image/png": "[encoded data removed]",
      "text/plain": [
       "<matplotlib.figure.Figure at 0x253be36b6a0>"
      ]
     },
     "metadata": {},
     "output_type": "display_data"
    }
   ],
   "source": [
    "# plot ROC curve # AUC = 0.92 # KS = 0.7 \n",
    "\n",
    "fpr,tpr,_ = roc_curve(y_reduced_test, pred_probas)\n",
    "roc_auc =  sklearn.metrics.auc(fpr,tpr)\n",
    "plt.plot(fpr, tpr, label = 'roc_auc = %.2f' % roc_auc)\n",
    "plt.plot([0, 1], [0, 1], 'k--')\n",
    "plt.xlim([0.0, 1.0])\n",
    "plt.ylim([0.0, 1.05])\n",
    "plt.legend(loc = 'lower right')\n",
    "plt.show()"
   ]
  },
  {
   "cell_type": "code",
   "execution_count": null,
   "metadata": {},
   "outputs": [],
   "source": [
    "joblib.dump(clf, \"SVC.pkl\")"
   ]
  },
  {
   "cell_type": "markdown",
   "metadata": {},
   "source": [
    "### 2.3.2 MLP\n",
    "MLP相比于SVM (RBF)，分类更为严格，PCA降维后对模型准确率影响不大，misclassified多为正向文本被分类为负向，其实是更容易overfitting，原因是语料过少，其实用神经网络未免有些小题大做，AUC = 0.91。"
   ]
  },
  {
   "cell_type": "code",
   "execution_count": 27,
   "metadata": {},
   "outputs": [
    {
     "name": "stderr",
     "output_type": "stream",
     "text": [
      "C:\\ProgramData\\Anaconda3\\lib\\site-packages\\ipykernel_launcher.py:3: UserWarning: Update your `Dense` call to the Keras 2 API: `Dense(512, input_dim=200, activation=\"tanh\", kernel_initializer=\"uniform\")`\n",
      "  This is separate from the ipykernel package so we can avoid doing imports until\n"
     ]
    }
   ],
   "source": [
    "#model defination\n",
    "model = Sequential() \n",
    "model.add(Dense(512, input_dim = 200, init = 'uniform', activation = 'tanh')) \n",
    "model.add(Dropout(0.5)) \n",
    "model.add(Dense(256, activation = 'relu')) \n",
    "model.add(Dropout(0.5)) \n",
    "model.add(Dense(128, activation = 'relu')) \n",
    "model.add(Dropout(0.5)) \n",
    "model.add(Dense(64, activation = 'relu')) \n",
    "model.add(Dropout(0.5)) \n",
    "model.add(Dense(32, activation = 'relu')) \n",
    "model.add(Dropout(0.5)) \n",
    "model.add(Dense(1, activation = 'sigmoid')) \n",
    "model.compile(loss = 'binary_crossentropy', optimizer = 'adam', metrics = ['accuracy'])\n"
   ]
  },
  {
   "cell_type": "code",
   "execution_count": 28,
   "metadata": {},
   "outputs": [
    {
     "name": "stdout",
     "output_type": "stream",
     "text": [
      "Epoch 1/100\n",
      "11410/11410 [==============================] - 6s 570us/step - loss: 0.6386 - acc: 0.6649\n",
      "Epoch 2/100\n",
      "11410/11410 [==============================] - 6s 554us/step - loss: 0.5674 - acc: 0.7294\n",
      "Epoch 3/100\n",
      "11410/11410 [==============================] - 7s 649us/step - loss: 0.5508 - acc: 0.7455\n",
      "Epoch 4/100\n",
      "11410/11410 [==============================] - 6s 532us/step - loss: 0.5363 - acc: 0.7530\n",
      "Epoch 5/100\n",
      "11410/11410 [==============================] - 5s 477us/step - loss: 0.5278 - acc: 0.7586\n",
      "Epoch 6/100\n",
      "11410/11410 [==============================] - 5s 480us/step - loss: 0.5149 - acc: 0.7591\n",
      "Epoch 7/100\n",
      "11410/11410 [==============================] - 6s 503us/step - loss: 0.5143 - acc: 0.7599\n",
      "Epoch 8/100\n",
      "11410/11410 [==============================] - 5s 476us/step - loss: 0.5036 - acc: 0.7696 1s - l\n",
      "Epoch 9/100\n",
      "11410/11410 [==============================] - 6s 534us/step - loss: 0.5017 - acc: 0.7695\n",
      "Epoch 10/100\n",
      "11410/11410 [==============================] - 6s 506us/step - loss: 0.4985 - acc: 0.7750\n",
      "Epoch 11/100\n",
      "11410/11410 [==============================] - 6s 490us/step - loss: 0.4980 - acc: 0.7698\n",
      "Epoch 12/100\n",
      "11410/11410 [==============================] - 6s 498us/step - loss: 0.4889 - acc: 0.7768\n",
      "Epoch 13/100\n",
      "11410/11410 [==============================] - 6s 529us/step - loss: 0.4871 - acc: 0.7795\n",
      "Epoch 14/100\n",
      "11410/11410 [==============================] - 6s 509us/step - loss: 0.4774 - acc: 0.7779\n",
      "Epoch 15/100\n",
      "11410/11410 [==============================] - 6s 503us/step - loss: 0.4664 - acc: 0.7810\n",
      "Epoch 16/100\n",
      "11410/11410 [==============================] - 5s 468us/step - loss: 0.4709 - acc: 0.7901\n",
      "Epoch 17/100\n",
      "11410/11410 [==============================] - 6s 510us/step - loss: 0.4583 - acc: 0.7901\n",
      "Epoch 18/100\n",
      "11410/11410 [==============================] - 6s 508us/step - loss: 0.4518 - acc: 0.7913\n",
      "Epoch 19/100\n",
      "11410/11410 [==============================] - 6s 558us/step - loss: 0.4474 - acc: 0.7989\n",
      "Epoch 20/100\n",
      "11410/11410 [==============================] - 6s 550us/step - loss: 0.4405 - acc: 0.7972\n",
      "Epoch 21/100\n",
      "11410/11410 [==============================] - 6s 498us/step - loss: 0.4298 - acc: 0.8069\n",
      "Epoch 22/100\n",
      "11410/11410 [==============================] - 7s 623us/step - loss: 0.4283 - acc: 0.8079\n",
      "Epoch 23/100\n",
      "11410/11410 [==============================] - 7s 578us/step - loss: 0.4217 - acc: 0.8076\n",
      "Epoch 24/100\n",
      "11410/11410 [==============================] - 7s 639us/step - loss: 0.4133 - acc: 0.8140\n",
      "Epoch 25/100\n",
      "11410/11410 [==============================] - 7s 599us/step - loss: 0.4148 - acc: 0.8104\n",
      "Epoch 26/100\n",
      "11410/11410 [==============================] - 7s 604us/step - loss: 0.4056 - acc: 0.8195\n",
      "Epoch 27/100\n",
      "11410/11410 [==============================] - 8s 707us/step - loss: 0.4068 - acc: 0.8187\n",
      "Epoch 28/100\n",
      "11410/11410 [==============================] - 7s 615us/step - loss: 0.3917 - acc: 0.8295\n",
      "Epoch 29/100\n",
      "11410/11410 [==============================] - 7s 619us/step - loss: 0.3867 - acc: 0.8230\n",
      "Epoch 30/100\n",
      "11410/11410 [==============================] - 7s 642us/step - loss: 0.3797 - acc: 0.8287\n",
      "Epoch 31/100\n",
      "11410/11410 [==============================] - 7s 596us/step - loss: 0.3833 - acc: 0.8280\n",
      "Epoch 32/100\n",
      "11410/11410 [==============================] - 6s 562us/step - loss: 0.3818 - acc: 0.8336\n",
      "Epoch 33/100\n",
      "11410/11410 [==============================] - 6s 557us/step - loss: 0.3731 - acc: 0.8372\n",
      "Epoch 34/100\n",
      "11410/11410 [==============================] - 6s 516us/step - loss: 0.3670 - acc: 0.8382\n",
      "Epoch 35/100\n",
      "11410/11410 [==============================] - 6s 534us/step - loss: 0.3557 - acc: 0.8418\n",
      "Epoch 36/100\n",
      "11410/11410 [==============================] - 5s 463us/step - loss: 0.3567 - acc: 0.8445\n",
      "Epoch 37/100\n",
      "11410/11410 [==============================] - 6s 491us/step - loss: 0.3619 - acc: 0.8440\n",
      "Epoch 38/100\n",
      "11410/11410 [==============================] - 5s 460us/step - loss: 0.3525 - acc: 0.8423 1s -\n",
      "Epoch 39/100\n",
      "11410/11410 [==============================] - 5s 458us/step - loss: 0.3466 - acc: 0.8489\n",
      "Epoch 40/100\n",
      "11410/11410 [==============================] - 5s 448us/step - loss: 0.3333 - acc: 0.8537\n",
      "Epoch 41/100\n",
      "11410/11410 [==============================] - 5s 448us/step - loss: 0.3259 - acc: 0.8586\n",
      "Epoch 42/100\n",
      "11410/11410 [==============================] - 6s 502us/step - loss: 0.3366 - acc: 0.8565\n",
      "Epoch 43/100\n",
      "11410/11410 [==============================] - 6s 518us/step - loss: 0.3341 - acc: 0.8581\n",
      "Epoch 44/100\n",
      "11410/11410 [==============================] - 6s 491us/step - loss: 0.3232 - acc: 0.8596 0s - loss: 0.3231 - \n",
      "Epoch 45/100\n",
      "11410/11410 [==============================] - 6s 531us/step - loss: 0.3165 - acc: 0.8701\n",
      "Epoch 46/100\n",
      "11410/11410 [==============================] - 5s 469us/step - loss: 0.3113 - acc: 0.8673\n",
      "Epoch 47/100\n",
      "11410/11410 [==============================] - 7s 573us/step - loss: 0.3176 - acc: 0.8649\n",
      "Epoch 48/100\n",
      "11410/11410 [==============================] - 6s 518us/step - loss: 0.3154 - acc: 0.8691\n",
      "Epoch 49/100\n",
      "11410/11410 [==============================] - 6s 517us/step - loss: 0.3002 - acc: 0.8741 0s - loss: 0.3004 - acc: 0.\n",
      "Epoch 50/100\n",
      "11410/11410 [==============================] - 6s 525us/step - loss: 0.3037 - acc: 0.8748\n",
      "Epoch 51/100\n",
      "11410/11410 [==============================] - 6s 565us/step - loss: 0.2982 - acc: 0.8758\n",
      "Epoch 52/100\n",
      "11410/11410 [==============================] - 6s 502us/step - loss: 0.3030 - acc: 0.8745\n",
      "Epoch 53/100\n",
      "11410/11410 [==============================] - 6s 490us/step - loss: 0.2951 - acc: 0.8845\n",
      "Epoch 54/100\n",
      "11410/11410 [==============================] - 6s 510us/step - loss: 0.2872 - acc: 0.8850\n",
      "Epoch 55/100\n",
      "11410/11410 [==============================] - 6s 502us/step - loss: 0.2873 - acc: 0.8829\n",
      "Epoch 56/100\n",
      "11410/11410 [==============================] - 6s 522us/step - loss: 0.2851 - acc: 0.8812\n",
      "Epoch 57/100\n",
      "11410/11410 [==============================] - 6s 484us/step - loss: 0.2813 - acc: 0.8883\n",
      "Epoch 58/100\n",
      "11410/11410 [==============================] - 6s 493us/step - loss: 0.2849 - acc: 0.8834\n",
      "Epoch 59/100\n",
      "11410/11410 [==============================] - 6s 501us/step - loss: 0.2781 - acc: 0.8917\n",
      "Epoch 60/100\n",
      "11410/11410 [==============================] - 6s 497us/step - loss: 0.2748 - acc: 0.8847\n",
      "Epoch 61/100\n",
      "11410/11410 [==============================] - 6s 485us/step - loss: 0.2718 - acc: 0.8922\n",
      "Epoch 62/100\n",
      "11410/11410 [==============================] - 6s 483us/step - loss: 0.2853 - acc: 0.8883\n",
      "Epoch 63/100\n",
      "11410/11410 [==============================] - 6s 533us/step - loss: 0.2815 - acc: 0.8876\n",
      "Epoch 64/100\n",
      "11410/11410 [==============================] - 5s 476us/step - loss: 0.2734 - acc: 0.8944\n",
      "Epoch 65/100\n",
      "11410/11410 [==============================] - 6s 502us/step - loss: 0.2769 - acc: 0.8906\n",
      "Epoch 66/100\n",
      "11410/11410 [==============================] - 6s 500us/step - loss: 0.2596 - acc: 0.8995\n",
      "Epoch 67/100\n",
      "11410/11410 [==============================] - 6s 505us/step - loss: 0.2599 - acc: 0.8954\n",
      "Epoch 68/100\n",
      "11410/11410 [==============================] - 7s 640us/step - loss: 0.2567 - acc: 0.8987\n",
      "Epoch 69/100\n",
      "11410/11410 [==============================] - 7s 601us/step - loss: 0.2646 - acc: 0.8959\n",
      "Epoch 70/100\n",
      "11410/11410 [==============================] - 6s 496us/step - loss: 0.2435 - acc: 0.9012\n",
      "Epoch 71/100\n",
      "11410/11410 [==============================] - 6s 496us/step - loss: 0.2503 - acc: 0.9047\n",
      "Epoch 72/100\n",
      "11410/11410 [==============================] - 7s 647us/step - loss: 0.2508 - acc: 0.9025 1s\n",
      "Epoch 73/100\n",
      "11410/11410 [==============================] - 6s 560us/step - loss: 0.2454 - acc: 0.9096\n",
      "Epoch 74/100\n",
      "11410/11410 [==============================] - 5s 480us/step - loss: 0.2431 - acc: 0.9047\n",
      "Epoch 75/100\n",
      "11410/11410 [==============================] - 5s 458us/step - loss: 0.2374 - acc: 0.9073\n",
      "Epoch 76/100\n",
      "11410/11410 [==============================] - 6s 530us/step - loss: 0.2370 - acc: 0.9089\n",
      "Epoch 77/100\n",
      "11410/11410 [==============================] - 7s 571us/step - loss: 0.2414 - acc: 0.9049\n",
      "Epoch 78/100\n",
      "11410/11410 [==============================] - 7s 578us/step - loss: 0.2333 - acc: 0.9059\n",
      "Epoch 79/100\n",
      "11410/11410 [==============================] - 6s 567us/step - loss: 0.2379 - acc: 0.9110\n",
      "Epoch 80/100\n"
     ]
    },
    {
     "name": "stdout",
     "output_type": "stream",
     "text": [
      "11410/11410 [==============================] - 6s 520us/step - loss: 0.2320 - acc: 0.9104\n",
      "Epoch 81/100\n",
      "11410/11410 [==============================] - 6s 492us/step - loss: 0.2369 - acc: 0.9118 0s - loss: 0.2394 - ac\n",
      "Epoch 82/100\n",
      "11410/11410 [==============================] - 7s 579us/step - loss: 0.2274 - acc: 0.9092\n",
      "Epoch 83/100\n",
      "11410/11410 [==============================] - 7s 623us/step - loss: 0.2291 - acc: 0.9111\n",
      "Epoch 84/100\n",
      "11410/11410 [==============================] - 7s 574us/step - loss: 0.2296 - acc: 0.9160\n",
      "Epoch 85/100\n",
      "11410/11410 [==============================] - 6s 547us/step - loss: 0.2290 - acc: 0.9119\n",
      "Epoch 86/100\n",
      "11410/11410 [==============================] - 6s 508us/step - loss: 0.2270 - acc: 0.9184\n",
      "Epoch 87/100\n",
      "11410/11410 [==============================] - 6s 555us/step - loss: 0.2344 - acc: 0.9120\n",
      "Epoch 88/100\n",
      "11410/11410 [==============================] - 6s 560us/step - loss: 0.2285 - acc: 0.9131\n",
      "Epoch 89/100\n",
      "11410/11410 [==============================] - 6s 520us/step - loss: 0.2305 - acc: 0.9144\n",
      "Epoch 90/100\n",
      "11410/11410 [==============================] - 6s 530us/step - loss: 0.2311 - acc: 0.9119\n",
      "Epoch 91/100\n",
      "11410/11410 [==============================] - 6s 566us/step - loss: 0.2202 - acc: 0.9195\n",
      "Epoch 92/100\n",
      "11410/11410 [==============================] - 6s 523us/step - loss: 0.2127 - acc: 0.9180\n",
      "Epoch 93/100\n",
      "11410/11410 [==============================] - 5s 453us/step - loss: 0.2151 - acc: 0.9189\n",
      "Epoch 94/100\n",
      "11410/11410 [==============================] - 5s 449us/step - loss: 0.2159 - acc: 0.9189\n",
      "Epoch 95/100\n",
      "11410/11410 [==============================] - 5s 447us/step - loss: 0.2129 - acc: 0.9223\n",
      "Epoch 96/100\n",
      "11410/11410 [==============================] - 5s 466us/step - loss: 0.2127 - acc: 0.9167\n",
      "Epoch 97/100\n",
      "11410/11410 [==============================] - 5s 452us/step - loss: 0.2117 - acc: 0.9202\n",
      "Epoch 98/100\n",
      "11410/11410 [==============================] - 5s 452us/step - loss: 0.2068 - acc: 0.9198\n",
      "Epoch 99/100\n",
      "11410/11410 [==============================] - 6s 548us/step - loss: 0.2027 - acc: 0.9248\n",
      "Epoch 100/100\n",
      "11410/11410 [==============================] - 6s 558us/step - loss: 0.2115 - acc: 0.9202\n"
     ]
    },
    {
     "data": {
      "text/plain": [
       "<keras.callbacks.History at 0x253beb425f8>"
      ]
     },
     "execution_count": 28,
     "metadata": {},
     "output_type": "execute_result"
    }
   ],
   "source": [
    "#model traning\n",
    "model.fit(X_train, y_train, epochs = 100, batch_size = 16) \n"
   ]
  },
  {
   "cell_type": "code",
   "execution_count": 30,
   "metadata": {},
   "outputs": [
    {
     "name": "stdout",
     "output_type": "stream",
     "text": [
      "7607/7607 [==============================] - 1s 154us/step\n",
      "Test accuracy:  0.7717891415801236\n"
     ]
    }
   ],
   "source": [
    "score = model.evaluate(X_test, y_test, batch_size = 16) \n",
    "print ('Test accuracy: ', score[1])\n"
   ]
  },
  {
   "cell_type": "code",
   "execution_count": 31,
   "metadata": {},
   "outputs": [
    {
     "name": "stdout",
     "output_type": "stream",
     "text": [
      "KS value: 0.530827\n"
     ]
    }
   ],
   "source": [
    "pred_probas2 = model.predict_proba(X_test)[:,0]\n",
    "print (\"KS value: %f\" % ks_2samp(y_test, pred_probas2)[0] )"
   ]
  },
  {
   "cell_type": "code",
   "execution_count": 32,
   "metadata": {},
   "outputs": [
    {
     "data": {
      "image/png": "[encoded data removed]",
      "text/plain": [
       "<matplotlib.figure.Figure at 0x25382b588d0>"
      ]
     },
     "metadata": {},
     "output_type": "display_data"
    }
   ],
   "source": [
    "# plot ROC curve # AUC = 0.91 \n",
    "fpr2,tpr2,_ = roc_curve(y_test, pred_probas2) \n",
    "roc_auc2 = sklearn.metrics.auc(fpr2,tpr2) \n",
    "plt.plot(fpr2, tpr2, label = 'roc_auc(MLP) = %.2f' % roc_auc2, color=\"red\") \n",
    "plt.plot(fpr, tpr, label = 'roc_auc(SVM(RBF)&PCA) = %.2f' % roc_auc, color=\"green\")    # SVM above \n",
    "plt.plot([0, 1], [0, 1], 'k--') \n",
    "plt.xlim([0.0, 1.0]) \n",
    "plt.ylim([0.0, 1.05]) \n",
    "plt.legend(loc = 'lower right') \n",
    "plt.show()"
   ]
  },
  {
   "cell_type": "code",
   "execution_count": null,
   "metadata": {},
   "outputs": [],
   "source": [
    "\n"
   ]
  },
  {
   "cell_type": "code",
   "execution_count": 34,
   "metadata": {},
   "outputs": [
    {
     "name": "stdout",
     "output_type": "stream",
     "text": [
      "[0.0020666]\n"
     ]
    },
    {
     "name": "stderr",
     "output_type": "stream",
     "text": [
      "C:\\ProgramData\\Anaconda3\\lib\\site-packages\\ipykernel_launcher.py:6: DeprecationWarning: Call to deprecated `__getitem__` (Method will be removed in 4.0.0, use self.wv.__getitem__() instead).\n",
      "  \n"
     ]
    }
   ],
   "source": [
    "text = \"超好看\"\n",
    "seg_list = jieba.cut(text, cut_all=False)\n",
    "w2cTest = getWordVecs(list(seg_list))\n",
    "shapedVector = sum(np.array(w2cTest))/len(w2cTest)\n",
    "#shapedVector = PCA(n_components = 100).fit_transform()\n",
    "#np.array([shapedVector])\n",
    "# scale(w2cTest_reduced)\n",
    "\n",
    "print(model.predict_proba(np.array([shapedVector]))[0])\n"
   ]
  },
  {
   "cell_type": "markdown",
   "metadata": {},
   "source": [
    "## LSTM"
   ]
  },
  {
   "cell_type": "code",
   "execution_count": null,
   "metadata": {},
   "outputs": [],
   "source": []
  },
  {
   "cell_type": "code",
   "execution_count": 35,
   "metadata": {},
   "outputs": [],
   "source": [
    "EMBEDDING_SIZE = 128\n",
    "HIDDEN_LAYER_SIZE = 64\n",
    "data_dim = 200\n",
    "timesteps = 1\n",
    "\n",
    "LSTM_model = Sequential()\n",
    "LSTM_model.add(LSTM(HIDDEN_LAYER_SIZE,input_shape=(timesteps,data_dim), dropout=0.2, recurrent_dropout=0.2))\n",
    "LSTM_model.add(Dense(1))\n",
    "LSTM_model.add(Activation(\"sigmoid\"))\n",
    "LSTM_model.compile(loss=\"binary_crossentropy\", optimizer=\"adam\",metrics=[\"accuracy\"])"
   ]
  },
  {
   "cell_type": "code",
   "execution_count": 36,
   "metadata": {},
   "outputs": [],
   "source": [
    "X_train_reshaped = np.reshape(X_train, (X_train.shape[0], 1, X_train.shape[1]))\n",
    "X_test_reshaped = np.reshape(X_test, (X_test.shape[0], 1, X_test.shape[1]))"
   ]
  },
  {
   "cell_type": "code",
   "execution_count": 37,
   "metadata": {},
   "outputs": [
    {
     "name": "stdout",
     "output_type": "stream",
     "text": [
      "Epoch 1/50\n",
      "11410/11410 [==============================] - 4s 380us/step - loss: 0.5310 - acc: 0.7429\n",
      "Epoch 2/50\n",
      "11410/11410 [==============================] - 4s 311us/step - loss: 0.4825 - acc: 0.7692\n",
      "Epoch 3/50\n",
      "11410/11410 [==============================] - 4s 333us/step - loss: 0.4600 - acc: 0.7852\n",
      "Epoch 4/50\n",
      "11410/11410 [==============================] - 3s 305us/step - loss: 0.4442 - acc: 0.7907\n",
      "Epoch 5/50\n",
      "11410/11410 [==============================] - 4s 308us/step - loss: 0.4252 - acc: 0.8035\n",
      "Epoch 6/50\n",
      "11410/11410 [==============================] - 4s 308us/step - loss: 0.4115 - acc: 0.8111\n",
      "Epoch 7/50\n",
      "11410/11410 [==============================] - 4s 328us/step - loss: 0.3932 - acc: 0.8252\n",
      "Epoch 8/50\n",
      "11410/11410 [==============================] - 4s 323us/step - loss: 0.3741 - acc: 0.8337\n",
      "Epoch 9/50\n",
      "11410/11410 [==============================] - 4s 329us/step - loss: 0.3614 - acc: 0.8401\n",
      "Epoch 10/50\n",
      "11410/11410 [==============================] - 4s 328us/step - loss: 0.3475 - acc: 0.8514\n",
      "Epoch 11/50\n",
      "11410/11410 [==============================] - 4s 334us/step - loss: 0.3340 - acc: 0.8596\n",
      "Epoch 12/50\n",
      "11410/11410 [==============================] - 4s 368us/step - loss: 0.3199 - acc: 0.8661\n",
      "Epoch 13/50\n",
      "11410/11410 [==============================] - 4s 331us/step - loss: 0.3136 - acc: 0.8678\n",
      "Epoch 14/50\n",
      "11410/11410 [==============================] - 4s 338us/step - loss: 0.2973 - acc: 0.8748 ET\n",
      "Epoch 15/50\n",
      "11410/11410 [==============================] - 4s 348us/step - loss: 0.2887 - acc: 0.8819\n",
      "Epoch 16/50\n",
      "11410/11410 [==============================] - 4s 329us/step - loss: 0.2837 - acc: 0.8824\n",
      "Epoch 17/50\n",
      "11410/11410 [==============================] - 4s 346us/step - loss: 0.2739 - acc: 0.8866\n",
      "Epoch 18/50\n",
      "11410/11410 [==============================] - 4s 348us/step - loss: 0.2646 - acc: 0.8914\n",
      "Epoch 19/50\n",
      "11410/11410 [==============================] - 4s 335us/step - loss: 0.2595 - acc: 0.8897\n",
      "Epoch 20/50\n",
      "11410/11410 [==============================] - 4s 364us/step - loss: 0.2500 - acc: 0.8998\n",
      "Epoch 21/50\n",
      "11410/11410 [==============================] - 4s 383us/step - loss: 0.2448 - acc: 0.9023\n",
      "Epoch 22/50\n",
      "11410/11410 [==============================] - 4s 369us/step - loss: 0.2399 - acc: 0.9016\n",
      "Epoch 23/50\n",
      "11410/11410 [==============================] - 5s 424us/step - loss: 0.2343 - acc: 0.9072\n",
      "Epoch 24/50\n",
      "11410/11410 [==============================] - 4s 388us/step - loss: 0.2285 - acc: 0.9106\n",
      "Epoch 25/50\n",
      "11410/11410 [==============================] - 3s 298us/step - loss: 0.2277 - acc: 0.9103\n",
      "Epoch 26/50\n",
      "11410/11410 [==============================] - 3s 305us/step - loss: 0.2211 - acc: 0.9120\n",
      "Epoch 27/50\n",
      "11410/11410 [==============================] - 4s 340us/step - loss: 0.2160 - acc: 0.9139\n",
      "Epoch 28/50\n",
      "11410/11410 [==============================] - 3s 297us/step - loss: 0.2168 - acc: 0.9137\n",
      "Epoch 29/50\n",
      "11410/11410 [==============================] - 3s 301us/step - loss: 0.2089 - acc: 0.9169\n",
      "Epoch 30/50\n",
      "11410/11410 [==============================] - 3s 300us/step - loss: 0.2059 - acc: 0.9185\n",
      "Epoch 31/50\n",
      "11410/11410 [==============================] - 3s 290us/step - loss: 0.1983 - acc: 0.9245\n",
      "Epoch 32/50\n",
      "11410/11410 [==============================] - 3s 292us/step - loss: 0.1992 - acc: 0.9209\n",
      "Epoch 33/50\n",
      "11410/11410 [==============================] - 3s 292us/step - loss: 0.1897 - acc: 0.9258\n",
      "Epoch 34/50\n",
      "11410/11410 [==============================] - 3s 292us/step - loss: 0.1930 - acc: 0.9218\n",
      "Epoch 35/50\n",
      "11410/11410 [==============================] - 3s 292us/step - loss: 0.1944 - acc: 0.9217\n",
      "Epoch 36/50\n",
      "11410/11410 [==============================] - 3s 291us/step - loss: 0.1910 - acc: 0.9227\n",
      "Epoch 37/50\n",
      "11410/11410 [==============================] - 3s 294us/step - loss: 0.1814 - acc: 0.9305\n",
      "Epoch 38/50\n",
      "11410/11410 [==============================] - 3s 297us/step - loss: 0.1867 - acc: 0.9270\n",
      "Epoch 39/50\n",
      "11410/11410 [==============================] - 3s 297us/step - loss: 0.1899 - acc: 0.9228 1s - loss:\n",
      "Epoch 40/50\n",
      "11410/11410 [==============================] - 3s 290us/step - loss: 0.1853 - acc: 0.9272\n",
      "Epoch 41/50\n",
      "11410/11410 [==============================] - 3s 295us/step - loss: 0.1801 - acc: 0.9279\n",
      "Epoch 42/50\n",
      "11410/11410 [==============================] - 3s 299us/step - loss: 0.1730 - acc: 0.9316\n",
      "Epoch 43/50\n",
      "11410/11410 [==============================] - 3s 291us/step - loss: 0.1756 - acc: 0.9314\n",
      "Epoch 44/50\n",
      "11410/11410 [==============================] - 4s 392us/step - loss: 0.1743 - acc: 0.9311\n",
      "Epoch 45/50\n",
      "11410/11410 [==============================] - 4s 346us/step - loss: 0.1711 - acc: 0.9323\n",
      "Epoch 46/50\n",
      "11410/11410 [==============================] - 4s 340us/step - loss: 0.1702 - acc: 0.9317\n",
      "Epoch 47/50\n",
      "11410/11410 [==============================] - 4s 342us/step - loss: 0.1688 - acc: 0.9341\n",
      "Epoch 48/50\n",
      "11410/11410 [==============================] - 4s 348us/step - loss: 0.1634 - acc: 0.9354\n",
      "Epoch 49/50\n",
      "11410/11410 [==============================] - 4s 353us/step - loss: 0.1677 - acc: 0.9340\n",
      "Epoch 50/50\n",
      "11410/11410 [==============================] - 4s 342us/step - loss: 0.1620 - acc: 0.9336\n"
     ]
    },
    {
     "data": {
      "text/plain": [
       "<keras.callbacks.History at 0x25382b583c8>"
      ]
     },
     "execution_count": 37,
     "metadata": {},
     "output_type": "execute_result"
    }
   ],
   "source": [
    "LSTM_model.fit(X_train_reshaped, y_train, epochs = 50, batch_size = 16) \n",
    "#X_train.shape[0], X_train.shape[1]"
   ]
  },
  {
   "cell_type": "code",
   "execution_count": 38,
   "metadata": {
    "scrolled": false
   },
   "outputs": [
    {
     "name": "stdout",
     "output_type": "stream",
     "text": [
      "7607/7607 [==============================] - 1s 130us/step\n",
      "Test accuracy:  0.7519390035571979\n",
      "KS value: 0.530827\n"
     ]
    }
   ],
   "source": [
    "score = LSTM_model.evaluate(X_test_reshaped, y_test, batch_size = 16) \n",
    "print ('Test accuracy: ', score[1])\n",
    "pred_probas3 = LSTM_model.predict_proba(X_test_reshaped)[:,0]\n",
    "print (\"KS value: %f\" % ks_2samp(y_test, pred_probas3)[0] )"
   ]
  },
  {
   "cell_type": "code",
   "execution_count": 39,
   "metadata": {},
   "outputs": [
    {
     "data": {
      "image/png": "[encoded data removed]",
      "text/plain": [
       "<matplotlib.figure.Figure at 0x2538daf3588>"
      ]
     },
     "metadata": {},
     "output_type": "display_data"
    }
   ],
   "source": [
    "# plot ROC curve # AUC = 0.91 \n",
    "fpr3,tpr3,_ = roc_curve(y_test, pred_probas3) \n",
    "roc_auc3 = sklearn.metrics.auc(fpr3,tpr3) \n",
    "plt.plot(fpr3, tpr3, label = 'roc_auc(LSTM) = %.2f' % roc_auc3, color=\"blue\") \n",
    "plt.plot(fpr2, tpr2, label = 'roc_auc(MLP) = %.2f' % roc_auc2, color=\"red\") \n",
    "plt.plot(fpr, tpr, label = 'roc_auc(SVM(RBF)&PCA) = %.2f' % roc_auc, color=\"green\")    # SVM above \n",
    "plt.plot([0, 1], [0, 1], 'k--') \n",
    "plt.xlim([0.0, 1.0]) \n",
    "plt.ylim([0.0, 1.05]) \n",
    "plt.legend(loc = 'lower right') \n",
    "plt.show()"
   ]
  },
  {
   "cell_type": "code",
   "execution_count": 40,
   "metadata": {},
   "outputs": [
    {
     "name": "stdout",
     "output_type": "stream",
     "text": [
      "[[0.45008725]]\n"
     ]
    },
    {
     "name": "stderr",
     "output_type": "stream",
     "text": [
      "C:\\ProgramData\\Anaconda3\\lib\\site-packages\\ipykernel_launcher.py:6: DeprecationWarning: Call to deprecated `__getitem__` (Method will be removed in 4.0.0, use self.wv.__getitem__() instead).\n",
      "  \n"
     ]
    }
   ],
   "source": [
    "text = \"我觉得这个电影还不错的，虽然剧情有点牵强，女主设定有点奇怪，男主长的太丑了，其实还是可以一看的，期待下一部，超好看的！！！！！\"\n",
    "seg_list = jieba.cut(text, cut_all=False)\n",
    "w2cTest = getWordVecs(list(seg_list))\n",
    "shapedVector = sum(np.array(w2cTest))/len(w2cTest)\n",
    "shapedVector = np.array([shapedVector]);\n",
    "reshapedVector = np.reshape(shapedVector, (shapedVector.shape[0], 1, shapedVector.shape[1]))\n",
    "print(LSTM_model.predict_proba(reshapedVector))"
   ]
  },
  {
   "cell_type": "code",
   "execution_count": 41,
   "metadata": {},
   "outputs": [],
   "source": [
    "model.save(\"outputs/MLPmodel.h5\")\n",
    "LSTM_model.save(\"outputs/LSTMmodel.h5\")"
   ]
  },
  {
   "cell_type": "code",
   "execution_count": null,
   "metadata": {},
   "outputs": [],
   "source": []
  }
 ],
 "metadata": {
  "kernelspec": {
   "display_name": "Python 3",
   "language": "python",
   "name": "python3"
  },
  "language_info": {
   "codemirror_mode": {
    "name": "ipython",
    "version": 3
   },
   "file_extension": ".py",
   "mimetype": "text/x-python",
   "name": "python",
   "nbconvert_exporter": "python",
   "pygments_lexer": "ipython3",
   "version": "3.6.4"
  }
 },
 "nbformat": 4,
 "nbformat_minor": 2
}
