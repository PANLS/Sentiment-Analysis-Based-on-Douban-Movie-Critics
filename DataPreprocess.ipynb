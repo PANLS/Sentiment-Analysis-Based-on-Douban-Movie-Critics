{
 "cells": [
  {
   "cell_type": "code",
   "execution_count": 1,
   "metadata": {},
   "outputs": [],
   "source": [
    "import pandas as pd"
   ]
  },
  {
   "cell_type": "code",
   "execution_count": 2,
   "metadata": {},
   "outputs": [],
   "source": [
    "data = pd.read_csv(\"MovieComments1.csv\", encoding=\"gb18030\", header=None, \n",
    "                  names = [\"MovieName\",\"comment\",\"score\",\"user\",\"datatime\",\"votes\",\"UserUrl\",\"CommentUrl\"])"
   ]
  },
  {
   "cell_type": "code",
   "execution_count": 7,
   "metadata": {},
   "outputs": [
    {
     "data": {
      "text/html": [
       "<div>\n",
       "<style scoped>\n",
       "    .dataframe tbody tr th:only-of-type {\n",
       "        vertical-align: middle;\n",
       "    }\n",
       "\n",
       "    .dataframe tbody tr th {\n",
       "        vertical-align: top;\n",
       "    }\n",
       "\n",
       "    .dataframe thead th {\n",
       "        text-align: right;\n",
       "    }\n",
       "</style>\n",
       "<table border=\"1\" class=\"dataframe\">\n",
       "  <thead>\n",
       "    <tr style=\"text-align: right;\">\n",
       "      <th></th>\n",
       "      <th>MovieName</th>\n",
       "      <th>comment</th>\n",
       "      <th>score</th>\n",
       "      <th>user</th>\n",
       "      <th>datatime</th>\n",
       "      <th>votes</th>\n",
       "      <th>UserUrl</th>\n",
       "      <th>CommentUrl</th>\n",
       "    </tr>\n",
       "  </thead>\n",
       "  <tbody>\n",
       "    <tr>\n",
       "      <th>12217</th>\n",
       "      <td>罪途2之救赎代价 短评</td>\n",
       "      <td>在《罪途》里，每个人都有罪，却都没有受到法律的惩罚，每个人的内心都深不可测，每个人的恶都让...</td>\n",
       "      <td>推荐</td>\n",
       "      <td>Rs</td>\n",
       "      <td>2018-05-20 18:41:57</td>\n",
       "      <td>0</td>\n",
       "      <td>https://www.douban.com/people/149648698/</td>\n",
       "      <td>https://movie.douban.com/subject/30219670/comm...</td>\n",
       "    </tr>\n",
       "    <tr>\n",
       "      <th>12218</th>\n",
       "      <td>罪途2之救赎代价 短评</td>\n",
       "      <td>期待最后一集</td>\n",
       "      <td>力荐</td>\n",
       "      <td>jacoxu</td>\n",
       "      <td>2018-05-17 00:10:28</td>\n",
       "      <td>1</td>\n",
       "      <td>https://www.douban.com/people/jacoxu/</td>\n",
       "      <td>https://movie.douban.com/subject/30219670/comm...</td>\n",
       "    </tr>\n",
       "    <tr>\n",
       "      <th>12219</th>\n",
       "      <td>罪途2之救赎代价 短评</td>\n",
       "      <td>在这趟列车上，我无权对冷漠做出审判。题材选的还是可以的，稍还有点拖沓和bug…</td>\n",
       "      <td>推荐</td>\n",
       "      <td>兰秋</td>\n",
       "      <td>2018-05-23 19:58:34</td>\n",
       "      <td>0</td>\n",
       "      <td>https://www.douban.com/people/ckqfxdd/</td>\n",
       "      <td>https://movie.douban.com/subject/30219670/comm...</td>\n",
       "    </tr>\n",
       "    <tr>\n",
       "      <th>12220</th>\n",
       "      <td>罪途2之救赎代价 短评</td>\n",
       "      <td>比第一部好了很多，情节的推进不单单只靠演员口述</td>\n",
       "      <td>推荐</td>\n",
       "      <td>zzzzzh</td>\n",
       "      <td>2018-05-20 11:16:31</td>\n",
       "      <td>0</td>\n",
       "      <td>https://www.douban.com/people/121768645/</td>\n",
       "      <td>https://movie.douban.com/subject/30219670/comm...</td>\n",
       "    </tr>\n",
       "    <tr>\n",
       "      <th>12221</th>\n",
       "      <td>罪途2之救赎代价 短评</td>\n",
       "      <td>这剧单剧情和青少年犯罪的意义就能值妥妥的4星，然后看到最后的感动我个人私自给加了一星，家庭...</td>\n",
       "      <td>力荐</td>\n",
       "      <td>感性与理智并存</td>\n",
       "      <td>2018-05-21 23:44:17</td>\n",
       "      <td>1</td>\n",
       "      <td>https://www.douban.com/people/147076340/</td>\n",
       "      <td>https://movie.douban.com/subject/30219670/comm...</td>\n",
       "    </tr>\n",
       "  </tbody>\n",
       "</table>\n",
       "</div>"
      ],
      "text/plain": [
       "         MovieName                                            comment score  \\\n",
       "12217  罪途2之救赎代价 短评   在《罪途》里，每个人都有罪，却都没有受到法律的惩罚，每个人的内心都深不可测，每个人的恶都让...    推荐   \n",
       "12218  罪途2之救赎代价 短评                                             期待最后一集    力荐   \n",
       "12219  罪途2之救赎代价 短评            在这趟列车上，我无权对冷漠做出审判。题材选的还是可以的，稍还有点拖沓和bug…    推荐   \n",
       "12220  罪途2之救赎代价 短评                            比第一部好了很多，情节的推进不单单只靠演员口述    推荐   \n",
       "12221  罪途2之救赎代价 短评   这剧单剧情和青少年犯罪的意义就能值妥妥的4星，然后看到最后的感动我个人私自给加了一星，家庭...    力荐   \n",
       "\n",
       "          user             datatime  votes  \\\n",
       "12217       Rs  2018-05-20 18:41:57      0   \n",
       "12218   jacoxu  2018-05-17 00:10:28      1   \n",
       "12219       兰秋  2018-05-23 19:58:34      0   \n",
       "12220   zzzzzh  2018-05-20 11:16:31      0   \n",
       "12221  感性与理智并存  2018-05-21 23:44:17      1   \n",
       "\n",
       "                                        UserUrl  \\\n",
       "12217  https://www.douban.com/people/149648698/   \n",
       "12218     https://www.douban.com/people/jacoxu/   \n",
       "12219    https://www.douban.com/people/ckqfxdd/   \n",
       "12220  https://www.douban.com/people/121768645/   \n",
       "12221  https://www.douban.com/people/147076340/   \n",
       "\n",
       "                                              CommentUrl  \n",
       "12217  https://movie.douban.com/subject/30219670/comm...  \n",
       "12218  https://movie.douban.com/subject/30219670/comm...  \n",
       "12219  https://movie.douban.com/subject/30219670/comm...  \n",
       "12220  https://movie.douban.com/subject/30219670/comm...  \n",
       "12221  https://movie.douban.com/subject/30219670/comm...  "
      ]
     },
     "execution_count": 7,
     "metadata": {},
     "output_type": "execute_result"
    }
   ],
   "source": [
    "data.tail(5)"
   ]
  },
  {
   "cell_type": "code",
   "execution_count": 4,
   "metadata": {},
   "outputs": [],
   "source": [
    "cdata = data[[\"MovieName\", \"comment\", \"score\", \"votes\"]]"
   ]
  },
  {
   "cell_type": "code",
   "execution_count": 5,
   "metadata": {},
   "outputs": [
    {
     "name": "stderr",
     "output_type": "stream",
     "text": [
      "C:\\ProgramData\\Anaconda3\\lib\\site-packages\\ipykernel_launcher.py:1: SettingWithCopyWarning: \n",
      "A value is trying to be set on a copy of a slice from a DataFrame.\n",
      "Try using .loc[row_indexer,col_indexer] = value instead\n",
      "\n",
      "See the caveats in the documentation: http://pandas.pydata.org/pandas-docs/stable/indexing.html#indexing-view-versus-copy\n",
      "  \"\"\"Entry point for launching an IPython kernel.\n"
     ]
    }
   ],
   "source": [
    "cdata['MovieName']=cdata['MovieName'].apply(lambda x: x[:-3])\n"
   ]
  },
  {
   "cell_type": "code",
   "execution_count": 6,
   "metadata": {},
   "outputs": [
    {
     "data": {
      "text/html": [
       "<div>\n",
       "<style scoped>\n",
       "    .dataframe tbody tr th:only-of-type {\n",
       "        vertical-align: middle;\n",
       "    }\n",
       "\n",
       "    .dataframe tbody tr th {\n",
       "        vertical-align: top;\n",
       "    }\n",
       "\n",
       "    .dataframe thead th {\n",
       "        text-align: right;\n",
       "    }\n",
       "</style>\n",
       "<table border=\"1\" class=\"dataframe\">\n",
       "  <thead>\n",
       "    <tr style=\"text-align: right;\">\n",
       "      <th></th>\n",
       "      <th>MovieName</th>\n",
       "      <th>comment</th>\n",
       "      <th>score</th>\n",
       "      <th>votes</th>\n",
       "    </tr>\n",
       "  </thead>\n",
       "  <tbody>\n",
       "    <tr>\n",
       "      <th>0</th>\n",
       "      <td>马戏之王</td>\n",
       "      <td>故事講得不怎麽樣，依舊把少數人群當作噱頭的感覺；但忍不住抖腿。又唱又跳的休叔加上又唱又跳的...</td>\n",
       "      <td>推荐</td>\n",
       "      <td>34</td>\n",
       "    </tr>\n",
       "    <tr>\n",
       "      <th>1</th>\n",
       "      <td>马戏之王</td>\n",
       "      <td>娱乐电影的本质还是视觉奇观和欢乐。</td>\n",
       "      <td>推荐</td>\n",
       "      <td>37</td>\n",
       "    </tr>\n",
       "    <tr>\n",
       "      <th>2</th>\n",
       "      <td>马戏之王</td>\n",
       "      <td>非常享受，作为串联歌舞的情节竟然也也颇有可看之处，倒是有点超出预期。酒吧的两场最好，高空飞...</td>\n",
       "      <td>推荐</td>\n",
       "      <td>16</td>\n",
       "    </tr>\n",
       "    <tr>\n",
       "      <th>3</th>\n",
       "      <td>马戏之王</td>\n",
       "      <td>3.5。1.这个马戏团，居然没有小丑，不开心！2.歌舞场面自然是最大看点，设计上花了不少心...</td>\n",
       "      <td>推荐</td>\n",
       "      <td>15</td>\n",
       "    </tr>\n",
       "    <tr>\n",
       "      <th>4</th>\n",
       "      <td>马戏之王</td>\n",
       "      <td>歌舞部分很燃，休叔一跳起舞来真的是帅啊！但抛开歌舞部分不谈，剧本就是个屌丝逆袭的故事，底层...</td>\n",
       "      <td>推荐</td>\n",
       "      <td>83</td>\n",
       "    </tr>\n",
       "  </tbody>\n",
       "</table>\n",
       "</div>"
      ],
      "text/plain": [
       "  MovieName                                            comment score  votes\n",
       "0      马戏之王   故事講得不怎麽樣，依舊把少數人群當作噱頭的感覺；但忍不住抖腿。又唱又跳的休叔加上又唱又跳的...    推荐     34\n",
       "1      马戏之王                                  娱乐电影的本质还是视觉奇观和欢乐。    推荐     37\n",
       "2      马戏之王   非常享受，作为串联歌舞的情节竟然也也颇有可看之处，倒是有点超出预期。酒吧的两场最好，高空飞...    推荐     16\n",
       "3      马戏之王   3.5。1.这个马戏团，居然没有小丑，不开心！2.歌舞场面自然是最大看点，设计上花了不少心...    推荐     15\n",
       "4      马戏之王   歌舞部分很燃，休叔一跳起舞来真的是帅啊！但抛开歌舞部分不谈，剧本就是个屌丝逆袭的故事，底层...    推荐     83"
      ]
     },
     "execution_count": 6,
     "metadata": {},
     "output_type": "execute_result"
    }
   ],
   "source": [
    "cdata.head(5)"
   ]
  },
  {
   "cell_type": "code",
   "execution_count": 11,
   "metadata": {},
   "outputs": [
    {
     "data": {
      "text/plain": [
       "20     作为冒险片，从想象力和构思上连当年的木乃伊都不及…所谓新颖只不过在人物身份设计上多玩了点花...\n",
       "21                沉迷游戏可能导致脱发，甚至长出奇怪的东西。开头找到的游戏棋毫无意义嘛。。。\n",
       "22     故事本身与剧情节奏感很平淡乏味。对话调侃占的比重过高，动作场面既稀少也不出色，特效不够逼真...\n",
       "23     7.2的高分绝逼水军~剧情毫无亮点~角色毫无新意~巨石和JB也算两大笑星了~在片子里也只能...\n",
       "24     类型里居然没有儿童。经典系列续作。致敬经典棋盘，秒变卡带进入游戏世界。丛林世界仿佛又见巨石...\n",
       "Name: comment, dtype: object"
      ]
     },
     "execution_count": 11,
     "metadata": {},
     "output_type": "execute_result"
    }
   ],
   "source": [
    "comments = cdata[\"comment\"]\n",
    "posComments = cdata[(cdata[\"score\"]==\"推荐\") | (cdata[\"score\"]==\"力荐\") | (cdata[\"score\"]==\"还行\")][\"comment\"]\n",
    "negComments = cdata[(cdata[\"score\"]==\"较差\") | (cdata[\"score\"]==\"很差\")][\"comment\"]\n",
    "negComments.head(5)"
   ]
  },
  {
   "cell_type": "code",
   "execution_count": 4,
   "metadata": {},
   "outputs": [],
   "source": [
    "## cleanning comments data\n",
    "from lib.langconv import *  \n",
    "  \n",
    "def tradition2simple(line):  \n",
    "    # 将繁体转换成简体  \n",
    "    line = Converter('zh-hans').convert(line)  \n",
    "    line = line.encode('GB18030')  \n",
    "    return line  "
   ]
  },
  {
   "cell_type": "code",
   "execution_count": 6,
   "metadata": {},
   "outputs": [
    {
     "name": "stdout",
     "output_type": "stream",
     "text": [
      "忧郁的台湾乌龟\n"
     ]
    }
   ],
   "source": [
    "str = \"憂郁的臺灣烏龜\"\n",
    "print(tradition2simple(str).decode('gb18030'))"
   ]
  },
  {
   "cell_type": "code",
   "execution_count": 14,
   "metadata": {},
   "outputs": [],
   "source": [
    "comments = list(map(lambda x:tradition2simple(x.encode('GB18030')).decode(\"GB18030\"), comments))\n",
    "posComments = list(map(lambda x:tradition2simple(x.encode('GB18030')).decode(\"GB18030\"), posComments))\n",
    "negComments = list(map(lambda x:tradition2simple(x.encode('GB18030')).decode(\"GB18030\"), negComments))"
   ]
  },
  {
   "cell_type": "code",
   "execution_count": 16,
   "metadata": {},
   "outputs": [
    {
     "data": {
      "text/plain": [
       "[' 故事讲得不怎么样，依旧把少数人群当作噱头的感觉；但忍不住抖腿。又唱又跳的休叔加上又唱又跳的Zac！好喜欢酒吧那段。最后的大象不知怎么想到了Yoyo，只不过一个是走出世间，一个是走入。',\n",
       " ' 娱乐电影的本质还是视觉奇观和欢乐。',\n",
       " ' 非常享受，作为串联歌舞的情节竟然也也颇有可看之处，倒是有点超出预期。酒吧的两场最好，高空飞人的爱情二重唱十分动人，但我印象最深刻的竟然是马戏团员愤怒走会博物馆的那场，简直有点激动人心，如《悲惨世界》的“听到人民高歌”选段。Jackman的魅力无以伦比，不爱不行。',\n",
       " ' 3.5。1.这个马戏团，居然没有小丑，不开心！2.歌舞场面自然是最大看点，设计上花了不少心思；但真正动人心扉的时刻不多，演员的发挥空间也有限，不如当年的《悲惨世界》更以歌舞洞悉角色内心。3.各类奇形异能演员们的选择口味略嫌清淡。4.在我心目中，每一座马戏团都最终指向费里尼。',\n",
       " ' 歌舞部分很燃，休叔一跳起舞来真的是帅啊！但抛开歌舞部分不谈，剧本就是个屌丝逆袭的故事，底层出身娶了白富美，被开除了想创业又招到了被自己diss也不走的员工和有钱有才华有颜值有人品的合作伙伴。']"
      ]
     },
     "execution_count": 16,
     "metadata": {},
     "output_type": "execute_result"
    }
   ],
   "source": [
    "posComments[:5]"
   ]
  },
  {
   "cell_type": "code",
   "execution_count": 17,
   "metadata": {},
   "outputs": [],
   "source": [
    "## begin cutting words\n",
    "import jieba;"
   ]
  },
  {
   "cell_type": "code",
   "execution_count": 19,
   "metadata": {},
   "outputs": [],
   "source": [
    "# utf8 pos\n",
    "segText = open('SegCommentsPosUTF8.txt','w', encoding=\"utf8\") \n",
    "for item in posComments:\n",
    "    seg_list = jieba.cut(item, cut_all=False)\n",
    "    segText.write(\" \".join(seg_list) + '\\n') \n",
    "segText.close()"
   ]
  },
  {
   "cell_type": "code",
   "execution_count": 22,
   "metadata": {},
   "outputs": [],
   "source": [
    "# utf8 neg\n",
    "segText = open('SegCommentsNegUTF8.txt','w', encoding=\"utf8\") \n",
    "for item in negComments:\n",
    "    seg_list = jieba.cut(item, cut_all=False)\n",
    "    segText.write(\" \".join(seg_list) + '\\n') \n",
    "segText.close()"
   ]
  },
  {
   "cell_type": "code",
   "execution_count": 13,
   "metadata": {},
   "outputs": [],
   "source": [
    "segText = open('SegComments.txt','w+', encoding=\"GB18030\") \n",
    "for item in comments:\n",
    "    seg_list = jieba.cut(item, cut_all=False)\n",
    "    segText.write(\" \".join(seg_list) + '\\n') \n",
    "segText.close()"
   ]
  },
  {
   "cell_type": "code",
   "execution_count": null,
   "metadata": {},
   "outputs": [],
   "source": [
    "segText = open('SegComments.txt','w+', encoding=\"GB18030\") \n",
    "for item in comments:\n",
    "    seg_list = jieba.cut(item, cut_all=False)\n",
    "    segText.write(\" \".join(seg_list) + '\\n') \n",
    "segText.close()"
   ]
  }
 ],
 "metadata": {
  "kernelspec": {
   "display_name": "Python 3",
   "language": "python",
   "name": "python3"
  },
  "language_info": {
   "codemirror_mode": {
    "name": "ipython",
    "version": 3
   },
   "file_extension": ".py",
   "mimetype": "text/x-python",
   "name": "python",
   "nbconvert_exporter": "python",
   "pygments_lexer": "ipython3",
   "version": "3.6.4"
  }
 },
 "nbformat": 4,
 "nbformat_minor": 2
}
