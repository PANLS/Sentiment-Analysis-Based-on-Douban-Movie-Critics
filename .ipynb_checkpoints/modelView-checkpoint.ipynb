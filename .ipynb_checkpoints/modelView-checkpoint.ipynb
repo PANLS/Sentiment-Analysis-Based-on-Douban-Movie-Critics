{
 "cells": [
  {
   "cell_type": "markdown",
   "metadata": {},
   "source": [
    "### Model Utilization\n",
    "使用之前通过keras生成的模型进行数据集的分析，并提取信息"
   ]
  },
  {
   "cell_type": "code",
   "execution_count": 137,
   "metadata": {},
   "outputs": [],
   "source": [
    "from keras.models import load_model\n",
    "import numpy as np\n",
    "import pandas as pd\n",
    "import jieba\n",
    "import gensim, logging\n",
    "from gensim.models import word2vec\n",
    "from sklearn.cross_validation import train_test_split\n",
    "from keras.layers import Dense, Dropout, Activation\n",
    "from sklearn.metrics import f1_score\n",
    "from keras.layers.embeddings import Embedding\n",
    "from keras.layers.recurrent import LSTM\n",
    "import matplotlib.pyplot as plt\n",
    "from datetime import datetime"
   ]
  },
  {
   "cell_type": "code",
   "execution_count": 19,
   "metadata": {},
   "outputs": [],
   "source": [
    "# load model\n",
    "MLPmodel = load_model(\"outputs/MLPmodel.h5\")\n",
    "LSTMmodel = load_model(\"outputs/LSTMmodel.h5\")"
   ]
  },
  {
   "cell_type": "code",
   "execution_count": 94,
   "metadata": {},
   "outputs": [],
   "source": [
    "def score(model, text):\n",
    "    def getWordVecs(wordList):\n",
    "        W2Vmodel = word2vec.Word2Vec.load(\"W2Vmodel\\CommentsW2V.model\")\n",
    "        vecs = []\n",
    "        for word in wordList:\n",
    "            word = word.replace('\\n', '')\n",
    "            try:\n",
    "                vecs.append(W2Vmodel[word])\n",
    "            except KeyError:\n",
    "                continue\n",
    "        return np.array(vecs, dtype = 'float')\n",
    "    try:\n",
    "        seg_list = jieba.cut(text, cut_all=False)\n",
    "        w2cTest = getWordVecs(list(seg_list))\n",
    "        shapedVector = sum(np.array(w2cTest))/len(w2cTest)\n",
    "        return model.predict_proba(np.array([shapedVector]))[0][0]\n",
    "    except Exception as err:\n",
    "        seg_list = jieba.cut(text, cut_all=False)\n",
    "        w2cTest = getWordVecs(list(seg_list))\n",
    "        shapedVector = sum(np.array(w2cTest))/len(w2cTest)\n",
    "        shapedVector = np.array([shapedVector]);\n",
    "        reshapedVector = np.reshape(shapedVector, (shapedVector.shape[0], 1, shapedVector.shape[1]))\n",
    "        return model.predict_proba(reshapedVector)[0][0]\n",
    "    \n",
    "def score2(text):\n",
    "    return (score(MLPmodel, text) + score(LSTMmodel, text))/2"
   ]
  },
  {
   "cell_type": "code",
   "execution_count": 36,
   "metadata": {},
   "outputs": [
    {
     "name": "stderr",
     "output_type": "stream",
     "text": [
      "C:\\ProgramData\\Anaconda3\\lib\\site-packages\\ipykernel_launcher.py:8: DeprecationWarning: Call to deprecated `__getitem__` (Method will be removed in 4.0.0, use self.wv.__getitem__() instead).\n",
      "  \n"
     ]
    },
    {
     "data": {
      "text/plain": [
       "0.067167565"
      ]
     },
     "execution_count": 36,
     "metadata": {},
     "output_type": "execute_result"
    }
   ],
   "source": [
    "score(MLPmodel, \"好开心，谢谢你，陌生人\")"
   ]
  },
  {
   "cell_type": "code",
   "execution_count": 85,
   "metadata": {},
   "outputs": [
    {
     "data": {
      "text/html": [
       "<div>\n",
       "<style scoped>\n",
       "    .dataframe tbody tr th:only-of-type {\n",
       "        vertical-align: middle;\n",
       "    }\n",
       "\n",
       "    .dataframe tbody tr th {\n",
       "        vertical-align: top;\n",
       "    }\n",
       "\n",
       "    .dataframe thead th {\n",
       "        text-align: right;\n",
       "    }\n",
       "</style>\n",
       "<table border=\"1\" class=\"dataframe\">\n",
       "  <thead>\n",
       "    <tr style=\"text-align: right;\">\n",
       "      <th></th>\n",
       "      <th>MovieName</th>\n",
       "      <th>comment</th>\n",
       "      <th>score</th>\n",
       "      <th>user</th>\n",
       "      <th>datatime</th>\n",
       "      <th>votes</th>\n",
       "      <th>UserUrl</th>\n",
       "      <th>CommentUrl</th>\n",
       "    </tr>\n",
       "  </thead>\n",
       "  <tbody>\n",
       "    <tr>\n",
       "      <th>0</th>\n",
       "      <td>马戏之王 短评</td>\n",
       "      <td>故事講得不怎麽樣，依舊把少數人群當作噱頭的感覺；但忍不住抖腿。又唱又跳的休叔加上又唱又跳的...</td>\n",
       "      <td>推荐</td>\n",
       "      <td>Bosie</td>\n",
       "      <td>2017-12-28 00:31:54</td>\n",
       "      <td>34</td>\n",
       "      <td>https://www.douban.com/people/jeskovampire/</td>\n",
       "      <td>https://movie.douban.com/subject/3914513/comme...</td>\n",
       "    </tr>\n",
       "    <tr>\n",
       "      <th>1</th>\n",
       "      <td>马戏之王 短评</td>\n",
       "      <td>娱乐电影的本质还是视觉奇观和欢乐。</td>\n",
       "      <td>推荐</td>\n",
       "      <td>张小北</td>\n",
       "      <td>2018-02-04 17:36:08</td>\n",
       "      <td>37</td>\n",
       "      <td>https://www.douban.com/people/xzfd/</td>\n",
       "      <td>https://movie.douban.com/subject/3914513/comme...</td>\n",
       "    </tr>\n",
       "    <tr>\n",
       "      <th>2</th>\n",
       "      <td>马戏之王 短评</td>\n",
       "      <td>非常享受，作为串联歌舞的情节竟然也也颇有可看之处，倒是有点超出预期。酒吧的两场最好，高空飞...</td>\n",
       "      <td>推荐</td>\n",
       "      <td>艾小柯</td>\n",
       "      <td>2018-02-17 21:04:16</td>\n",
       "      <td>16</td>\n",
       "      <td>https://www.douban.com/people/aixiaoke/</td>\n",
       "      <td>https://movie.douban.com/subject/3914513/comme...</td>\n",
       "    </tr>\n",
       "    <tr>\n",
       "      <th>3</th>\n",
       "      <td>马戏之王 短评</td>\n",
       "      <td>3.5。1.这个马戏团，居然没有小丑，不开心！2.歌舞场面自然是最大看点，设计上花了不少心...</td>\n",
       "      <td>推荐</td>\n",
       "      <td>陆支羽</td>\n",
       "      <td>2018-02-05 14:30:58</td>\n",
       "      <td>15</td>\n",
       "      <td>https://www.douban.com/people/luzhiyu/</td>\n",
       "      <td>https://movie.douban.com/subject/3914513/comme...</td>\n",
       "    </tr>\n",
       "    <tr>\n",
       "      <th>4</th>\n",
       "      <td>马戏之王 短评</td>\n",
       "      <td>歌舞部分很燃，休叔一跳起舞来真的是帅啊！但抛开歌舞部分不谈，剧本就是个屌丝逆袭的故事，底层...</td>\n",
       "      <td>推荐</td>\n",
       "      <td>我要加油</td>\n",
       "      <td>2018-02-04 00:08:31</td>\n",
       "      <td>83</td>\n",
       "      <td>https://www.douban.com/people/172453309/</td>\n",
       "      <td>https://movie.douban.com/subject/3914513/comme...</td>\n",
       "    </tr>\n",
       "  </tbody>\n",
       "</table>\n",
       "</div>"
      ],
      "text/plain": [
       "  MovieName                                            comment score   user  \\\n",
       "0   马戏之王 短评   故事講得不怎麽樣，依舊把少數人群當作噱頭的感覺；但忍不住抖腿。又唱又跳的休叔加上又唱又跳的...    推荐  Bosie   \n",
       "1   马戏之王 短评                                  娱乐电影的本质还是视觉奇观和欢乐。    推荐    张小北   \n",
       "2   马戏之王 短评   非常享受，作为串联歌舞的情节竟然也也颇有可看之处，倒是有点超出预期。酒吧的两场最好，高空飞...    推荐    艾小柯   \n",
       "3   马戏之王 短评   3.5。1.这个马戏团，居然没有小丑，不开心！2.歌舞场面自然是最大看点，设计上花了不少心...    推荐    陆支羽   \n",
       "4   马戏之王 短评   歌舞部分很燃，休叔一跳起舞来真的是帅啊！但抛开歌舞部分不谈，剧本就是个屌丝逆袭的故事，底层...    推荐   我要加油   \n",
       "\n",
       "              datatime  votes                                      UserUrl  \\\n",
       "0  2017-12-28 00:31:54     34  https://www.douban.com/people/jeskovampire/   \n",
       "1  2018-02-04 17:36:08     37          https://www.douban.com/people/xzfd/   \n",
       "2  2018-02-17 21:04:16     16      https://www.douban.com/people/aixiaoke/   \n",
       "3  2018-02-05 14:30:58     15       https://www.douban.com/people/luzhiyu/   \n",
       "4  2018-02-04 00:08:31     83     https://www.douban.com/people/172453309/   \n",
       "\n",
       "                                          CommentUrl  \n",
       "0  https://movie.douban.com/subject/3914513/comme...  \n",
       "1  https://movie.douban.com/subject/3914513/comme...  \n",
       "2  https://movie.douban.com/subject/3914513/comme...  \n",
       "3  https://movie.douban.com/subject/3914513/comme...  \n",
       "4  https://movie.douban.com/subject/3914513/comme...  "
      ]
     },
     "execution_count": 85,
     "metadata": {},
     "output_type": "execute_result"
    }
   ],
   "source": [
    "# 读取数据\n",
    "data = pd.read_csv(\"inputs\\MovieComments1.csv\", encoding=\"gb18030\", header=None, \n",
    "                  names = [\"MovieName\",\"comment\",\"score\",\"user\",\"datatime\",\"votes\",\"UserUrl\",\"CommentUrl\"])\n",
    "data.head(5)"
   ]
  },
  {
   "cell_type": "markdown",
   "metadata": {},
   "source": [
    "### 以用户为目标的系列短评分析\n",
    "首先需要提取出发表过评论多于20个的用户，他们的评论才是有效的。"
   ]
  },
  {
   "cell_type": "code",
   "execution_count": 84,
   "metadata": {},
   "outputs": [
    {
     "data": {
      "text/plain": [
       "康报虹         46\n",
       "痞影人科莱昂      39\n",
       "西楼尘         36\n",
       "陆支羽         33\n",
       "王大根         32\n",
       "徐若风         31\n",
       "同志亦凡人中文站    31\n",
       "方枪枪         30\n",
       "释凡          30\n",
       "[已注销]       30\n",
       "Name: user, dtype: int64"
      ]
     },
     "execution_count": 84,
     "metadata": {},
     "output_type": "execute_result"
    }
   ],
   "source": [
    "data['user'].value_counts()[lambda x: x > 20].head(10)"
   ]
  },
  {
   "cell_type": "markdown",
   "metadata": {},
   "source": [
    "提取名字为XX的评论和打分的dataframe，对每条评论判断情感值, 最后给出一个总的用户情感倾向，并绘制时间情感图"
   ]
  },
  {
   "cell_type": "code",
   "execution_count": 195,
   "metadata": {},
   "outputs": [],
   "source": [
    "username = '王大根'\n",
    "icomment = data[data['user']==username][['comment', 'score', 'datatime']]\n",
    "# 按时间序列排序\n",
    "icomment = icomment.sort_values(by=['datatime'])"
   ]
  },
  {
   "cell_type": "code",
   "execution_count": 200,
   "metadata": {},
   "outputs": [
    {
     "name": "stderr",
     "output_type": "stream",
     "text": [
      "C:\\ProgramData\\Anaconda3\\lib\\site-packages\\ipykernel_launcher.py:8: DeprecationWarning: Call to deprecated `__getitem__` (Method will be removed in 4.0.0, use self.wv.__getitem__() instead).\n",
      "  \n"
     ]
    },
    {
     "name": "stdout",
     "output_type": "stream",
     "text": [
      "comment:\n",
      " 比《寄生兽》差太多了，最崩溃的是以为终于看了一部避开福士苍汰的漫改，结果出来一个铃木伸之比福士苍汰还福士苍汰……\n",
      "True score:较差\n",
      "Forecast score:\n",
      "0.6077399849891663\n",
      "\n",
      "comment:\n",
      " Ryan Reynold演龟毛丧逼比演死侍好笑！不过总感觉抢了Paul Rudd饭碗\n",
      "True score:推荐\n",
      "Forecast score:\n",
      "0.09637930989265442\n",
      "\n",
      "comment:\n",
      " 比《鲛珠传》还《银河护卫队》啊，很可能是目前最具太空科幻感的国产电影了！\n",
      "True score:推荐\n",
      "Forecast score:\n",
      "0.12214726209640503\n",
      "\n",
      "comment:\n",
      " 太可爱了，超能男子高中生的日常\n",
      "True score:推荐\n",
      "Forecast score:\n",
      "0.0022962044458836317\n",
      "\n",
      "comment:\n",
      " 要在一部青春片里看见李鸿其应该都不会多看两眼，在这片里一衬托，妈呀看完火速下载他之前演的同志电影了！\n",
      "True score:还行\n",
      "Forecast score:\n",
      "0.585223376750946\n",
      "\n"
     ]
    }
   ],
   "source": [
    "score_list = []\n",
    "count = 0\n",
    "for i in range(0,len(icomment)):\n",
    "    iscore = score2(icomment.iloc[i]['comment'])\n",
    "    score_list.append(iscore)\n",
    "    count += 1\n",
    "    if count < 6:\n",
    "        print('comment:\\n' + icomment.iloc[i]['comment'])\n",
    "        print('True score:' + icomment.iloc[i]['score'])\n",
    "        print('Forecast score:\\n' + str(iscore))\n",
    "        print()"
   ]
  },
  {
   "cell_type": "code",
   "execution_count": 202,
   "metadata": {},
   "outputs": [
    {
     "name": "stdout",
     "output_type": "stream",
     "text": [
      "user:王大根\n",
      "avg_score:0.49961468092078576\n"
     ]
    }
   ],
   "source": [
    "# total score of user\n",
    "print(\"user:\" + username)\n",
    "print(\"avg_score:\" + str(sum(score_list)/len(score_list)))"
   ]
  },
  {
   "cell_type": "code",
   "execution_count": 203,
   "metadata": {},
   "outputs": [
    {
     "data": {
      "image/png": "[encoded data removed]",
      "text/plain": [
       "<matplotlib.figure.Figure at 0x1518b617400>"
      ]
     },
     "metadata": {},
     "output_type": "display_data"
    }
   ],
   "source": [
    "# 将汉字转化为0-1之间的小数\n",
    "rating_convert = {'力荐':0.1, '推荐':0.3, '还行':0.5, '较差':0.7, '很差':0.9} \n",
    "converted_rating = list(map(lambda x: rating_convert[x], icomment['score']))\n",
    "\n",
    "xs = [datetime.strptime(d, '%Y-%m-%d %H:%M:%S').date() for d in icomment['datatime']]\n",
    "plt.figure(figsize=(14,7))\n",
    "plt.plot(xs, pd.Series(converted_rating),label = 'ori rating', color='blue')\n",
    "plt.plot(xs, score_list, label='forecast rating', color='orange')\n",
    "\n",
    "plt.ylabel(u'情感倾向',fontproperties='SimHei')\n",
    "plt.xlabel(u'时间轴',fontproperties='SimHei')\n",
    "plt.xticks(rotation=40)\n",
    "plt.legend(loc = 'lower right') \n",
    "plt.grid(True)\n",
    "plt.show()"
   ]
  },
  {
   "cell_type": "markdown",
   "metadata": {},
   "source": [
    "### 以电影为目标的系列短评分析\n",
    "首先查看有哪些电影评论数较多，选取前10个查看"
   ]
  },
  {
   "cell_type": "code",
   "execution_count": 209,
   "metadata": {},
   "outputs": [
    {
     "data": {
      "text/plain": [
       "啊，荒野 前篇 短评       166\n",
       "茉莉牌局 短评          160\n",
       "我能说 短评           160\n",
       "荒城纪 短评           160\n",
       "追捕 短评            160\n",
       "马斯顿教授与神奇女侠 短评    160\n",
       "大坏狐狸的故事 短评       160\n",
       "猫与桃花源 短评         160\n",
       "海滩的一天 短评         145\n",
       "摇曳的心 短评          140\n",
       "Name: MovieName, dtype: int64"
      ]
     },
     "execution_count": 209,
     "metadata": {},
     "output_type": "execute_result"
    }
   ],
   "source": [
    "data['MovieName'].value_counts()[lambda x: x > 20].head(10)"
   ]
  },
  {
   "cell_type": "code",
   "execution_count": null,
   "metadata": {},
   "outputs": [],
   "source": [
    "moviename='啊，荒野 前篇 短评'\n"
   ]
  },
  {
   "cell_type": "code",
   "execution_count": null,
   "metadata": {},
   "outputs": [],
   "source": []
  }
 ],
 "metadata": {
  "kernelspec": {
   "display_name": "Python 3",
   "language": "python",
   "name": "python3"
  },
  "language_info": {
   "codemirror_mode": {
    "name": "ipython",
    "version": 3
   },
   "file_extension": ".py",
   "mimetype": "text/x-python",
   "name": "python",
   "nbconvert_exporter": "python",
   "pygments_lexer": "ipython3",
   "version": "3.6.4"
  }
 },
 "nbformat": 4,
 "nbformat_minor": 2
}
